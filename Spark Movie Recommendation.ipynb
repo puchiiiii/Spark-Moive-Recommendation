{
 "cells": [
  {
   "cell_type": "markdown",
   "metadata": {},
   "source": [
    "### Spark Moive Recommendation\n",
    "数据集：[MovieLens small dataset](https://grouplens.org/datasets/movielens/latest/)"
   ]
  },
  {
   "cell_type": "code",
   "execution_count": 1,
   "metadata": {},
   "outputs": [],
   "source": [
    "import numpy as np\n",
    "import pandas as pd\n",
    "import seaborn as sns\n",
    "import matplotlib.pyplot as plt\n",
    "import math\n",
    "%matplotlib inline\n",
    "dbutils.library.installPyPI(\"mlflow\")\n",
    "dbutils.library.restartPython()\n",
    "import mlflow\n",
    "import os\n",
    "os.environ[\"PYSPARK_PYTHON\"] = \"python3\""
   ]
  },
  {
   "cell_type": "markdown",
   "metadata": {},
   "source": [
    "## Part1: Data ETL and Data Exploration"
   ]
  },
  {
   "cell_type": "code",
   "execution_count": 5,
   "metadata": {},
   "outputs": [
    {
     "data": {
      "text/html": [
       "<style scoped>\n",
       "  .ansiout {\n",
       "    display: block;\n",
       "    unicode-bidi: embed;\n",
       "    white-space: pre-wrap;\n",
       "    word-wrap: break-word;\n",
       "    word-break: break-all;\n",
       "    font-family: \"Source Code Pro\", \"Menlo\", monospace;;\n",
       "    font-size: 13px;\n",
       "    color: #555;\n",
       "    margin-left: 4px;\n",
       "    line-height: 19px;\n",
       "  }\n",
       "</style>\n",
       "<div class=\"ansiout\"></div>"
      ]
     },
     "metadata": {},
     "output_type": "display_data"
    }
   ],
   "source": [
    "from pyspark.sql import SparkSession\n",
    "spark = SparkSession \\\n",
    "    .builder \\\n",
    "    .appName(\"moive analysis\") \\\n",
    "    .config(\"spark.some.config.option\", \"some-value\") \\\n",
    "    .getOrCreate()"
   ]
  },
  {
   "cell_type": "code",
   "execution_count": 6,
   "metadata": {},
   "outputs": [
    {
     "data": {
      "text/html": [
       "<style scoped>\n",
       "  .ansiout {\n",
       "    display: block;\n",
       "    unicode-bidi: embed;\n",
       "    white-space: pre-wrap;\n",
       "    word-wrap: break-word;\n",
       "    word-break: break-all;\n",
       "    font-family: \"Source Code Pro\", \"Menlo\", monospace;;\n",
       "    font-size: 13px;\n",
       "    color: #555;\n",
       "    margin-left: 4px;\n",
       "    line-height: 19px;\n",
       "  }\n",
       "</style>\n",
       "<div class=\"ansiout\"></div>"
      ]
     },
     "metadata": {},
     "output_type": "display_data"
    }
   ],
   "source": [
    "movies_df = spark.read.load(\"/FileStore/tables/movies.csv\", format='csv', header = True)\n",
    "ratings_df = spark.read.load(\"/FileStore/tables/ratings.csv\", format='csv', header = True)\n",
    "links_df = spark.read.load(\"/FileStore/tables/links.csv\", format='csv', header = True)\n",
    "tags_df = spark.read.load(\"/FileStore/tables/tags.csv\", format='csv', header = True)"
   ]
  },
  {
   "cell_type": "code",
   "execution_count": 7,
   "metadata": {},
   "outputs": [
    {
     "data": {
      "text/html": [
       "<style scoped>\n",
       "  .ansiout {\n",
       "    display: block;\n",
       "    unicode-bidi: embed;\n",
       "    white-space: pre-wrap;\n",
       "    word-wrap: break-word;\n",
       "    word-break: break-all;\n",
       "    font-family: \"Source Code Pro\", \"Menlo\", monospace;;\n",
       "    font-size: 13px;\n",
       "    color: #555;\n",
       "    margin-left: 4px;\n",
       "    line-height: 19px;\n",
       "  }\n",
       "</style>\n",
       "<div class=\"ansiout\">Out[4]: pyspark.sql.dataframe.DataFrame</div>"
      ]
     },
     "metadata": {},
     "output_type": "display_data"
    }
   ],
   "source": [
    "type(movies_df)"
   ]
  },
  {
   "cell_type": "code",
   "execution_count": 8,
   "metadata": {},
   "outputs": [
    {
     "data": {
      "text/html": [
       "<style scoped>\n",
       "  .ansiout {\n",
       "    display: block;\n",
       "    unicode-bidi: embed;\n",
       "    white-space: pre-wrap;\n",
       "    word-wrap: break-word;\n",
       "    word-break: break-all;\n",
       "    font-family: \"Source Code Pro\", \"Menlo\", monospace;;\n",
       "    font-size: 13px;\n",
       "    color: #555;\n",
       "    margin-left: 4px;\n",
       "    line-height: 19px;\n",
       "  }\n",
       "</style>\n",
       "<div class=\"ansiout\">Out[5]: 58098</div>"
      ]
     },
     "metadata": {},
     "output_type": "display_data"
    }
   ],
   "source": [
    "movies_df.count()"
   ]
  },
  {
   "cell_type": "code",
   "execution_count": 9,
   "metadata": {},
   "outputs": [
    {
     "data": {
      "text/html": [
       "<style scoped>\n",
       "  .table-result-container {\n",
       "    max-height: 300px;\n",
       "    overflow: auto;\n",
       "  }\n",
       "  table, th, td {\n",
       "    border: 1px solid black;\n",
       "    border-collapse: collapse;\n",
       "  }\n",
       "  th, td {\n",
       "    padding: 5px;\n",
       "  }\n",
       "  th {\n",
       "    text-align: left;\n",
       "  }\n",
       "</style><div class='table-result-container'><table class='table-result'><thead style='background-color: white'><tr><th>movieId</th><th>title</th><th>genres</th></tr></thead><tbody><tr><td>1</td><td>Toy Story (1995)</td><td>Adventure|Animation|Children|Comedy|Fantasy</td></tr><tr><td>2</td><td>Jumanji (1995)</td><td>Adventure|Children|Fantasy</td></tr><tr><td>3</td><td>Grumpier Old Men (1995)</td><td>Comedy|Romance</td></tr><tr><td>4</td><td>Waiting to Exhale (1995)</td><td>Comedy|Drama|Romance</td></tr><tr><td>5</td><td>Father of the Bride Part II (1995)</td><td>Comedy</td></tr></tbody></table></div>"
      ]
     },
     "metadata": {},
     "output_type": "display_data"
    }
   ],
   "source": [
    "#movies_df.show(5)\n",
    "\n",
    "movies_df.createOrReplaceTempView(\"movies_df\")\n",
    "\n",
    "display(spark.sql(\"SELECT * FROM movies_df limit 5\"))"
   ]
  },
  {
   "cell_type": "code",
   "execution_count": 10,
   "metadata": {},
   "outputs": [
    {
     "data": {
      "text/html": [
       "<style scoped>\n",
       "  .table-result-container {\n",
       "    max-height: 300px;\n",
       "    overflow: auto;\n",
       "  }\n",
       "  table, th, td {\n",
       "    border: 1px solid black;\n",
       "    border-collapse: collapse;\n",
       "  }\n",
       "  th, td {\n",
       "    padding: 5px;\n",
       "  }\n",
       "  th {\n",
       "    text-align: left;\n",
       "  }\n",
       "</style><div class='table-result-container'><table class='table-result'><thead style='background-color: white'><tr><th>userId</th><th>movieId</th><th>rating</th><th>timestamp</th></tr></thead><tbody><tr><td>1</td><td>307</td><td>3.5</td><td>1256677221</td></tr><tr><td>1</td><td>481</td><td>3.5</td><td>1256677456</td></tr><tr><td>1</td><td>1091</td><td>1.5</td><td>1256677471</td></tr><tr><td>1</td><td>1257</td><td>4.5</td><td>1256677460</td></tr><tr><td>1</td><td>1449</td><td>4.5</td><td>1256677264</td></tr></tbody></table></div>"
      ]
     },
     "metadata": {},
     "output_type": "display_data"
    }
   ],
   "source": [
    "#ratings_df.show(5)\n",
    "\n",
    "ratings_df.createOrReplaceTempView(\"ratings_df\")\n",
    "\n",
    "display (spark.sql(\"SELECT * FROM ratings_df limit 5\"))"
   ]
  },
  {
   "cell_type": "code",
   "execution_count": 11,
   "metadata": {},
   "outputs": [
    {
     "data": {
      "text/html": [
       "<style scoped>\n",
       "  .table-result-container {\n",
       "    max-height: 300px;\n",
       "    overflow: auto;\n",
       "  }\n",
       "  table, th, td {\n",
       "    border: 1px solid black;\n",
       "    border-collapse: collapse;\n",
       "  }\n",
       "  th, td {\n",
       "    padding: 5px;\n",
       "  }\n",
       "  th {\n",
       "    text-align: left;\n",
       "  }\n",
       "</style><div class='table-result-container'><table class='table-result'><thead style='background-color: white'><tr><th>movieId</th><th>imdbId</th><th>tmdbId</th></tr></thead><tbody><tr><td>1</td><td>0114709</td><td>862</td></tr><tr><td>2</td><td>0113497</td><td>8844</td></tr><tr><td>3</td><td>0113228</td><td>15602</td></tr><tr><td>4</td><td>0114885</td><td>31357</td></tr><tr><td>5</td><td>0113041</td><td>11862</td></tr></tbody></table></div>"
      ]
     },
     "metadata": {},
     "output_type": "display_data"
    }
   ],
   "source": [
    "links_df.show(5)\n",
    "\n",
    "links_df.createOrReplaceTempView(\"links_df\")\n",
    "\n",
    "display (spark.sql(\"SELECT * FROM links_df limit 5\"))"
   ]
  },
  {
   "cell_type": "code",
   "execution_count": 12,
   "metadata": {},
   "outputs": [
    {
     "data": {
      "text/html": [
       "<style scoped>\n",
       "  .table-result-container {\n",
       "    max-height: 300px;\n",
       "    overflow: auto;\n",
       "  }\n",
       "  table, th, td {\n",
       "    border: 1px solid black;\n",
       "    border-collapse: collapse;\n",
       "  }\n",
       "  th, td {\n",
       "    padding: 5px;\n",
       "  }\n",
       "  th {\n",
       "    text-align: left;\n",
       "  }\n",
       "</style><div class='table-result-container'><table class='table-result'><thead style='background-color: white'><tr><th>userId</th><th>movieId</th><th>tag</th><th>timestamp</th></tr></thead><tbody><tr><td>14</td><td>110</td><td>epic</td><td>1443148538</td></tr><tr><td>14</td><td>110</td><td>Medieval</td><td>1443148532</td></tr><tr><td>14</td><td>260</td><td>sci-fi</td><td>1442169410</td></tr><tr><td>14</td><td>260</td><td>space action</td><td>1442169421</td></tr><tr><td>14</td><td>318</td><td>imdb top 250</td><td>1442615195</td></tr></tbody></table></div>"
      ]
     },
     "metadata": {},
     "output_type": "display_data"
    }
   ],
   "source": [
    "#tags_df.show(5)\n",
    "\n",
    "tags_df.createOrReplaceTempView(\"tags_df\")\n",
    "\n",
    "display (spark.sql(\"SELECT * FROM tags_df limit 5\"))"
   ]
  },
  {
   "cell_type": "code",
   "execution_count": 13,
   "metadata": {},
   "outputs": [
    {
     "data": {
      "text/html": [
       "<style scoped>\n",
       "  .ansiout {\n",
       "    display: block;\n",
       "    unicode-bidi: embed;\n",
       "    white-space: pre-wrap;\n",
       "    word-wrap: break-word;\n",
       "    word-break: break-all;\n",
       "    font-family: \"Source Code Pro\", \"Menlo\", monospace;;\n",
       "    font-size: 13px;\n",
       "    color: #555;\n",
       "    margin-left: 4px;\n",
       "    line-height: 19px;\n",
       "  }\n",
       "</style>\n",
       "<div class=\"ansiout\">For the users that rated movies and the movies that were rated:\n",
       "Minimum number of ratings per user is 1\n",
       "Minimum number of ratings per movie is 1\n",
       "</div>"
      ]
     },
     "metadata": {},
     "output_type": "display_data"
    }
   ],
   "source": [
    "tmp1 = ratings_df.groupBy(\"userID\").count().toPandas()['count'].min()\n",
    "tmp2 = ratings_df.groupBy(\"movieId\").count().toPandas()['count'].min()\n",
    "print('For the users that rated movies and the movies that were rated:')\n",
    "print('Minimum number of ratings per user is {}'.format(tmp1))\n",
    "print('Minimum number of ratings per movie is {}'.format(tmp2))"
   ]
  },
  {
   "cell_type": "code",
   "execution_count": 14,
   "metadata": {},
   "outputs": [
    {
     "data": {
      "text/html": [
       "<style scoped>\n",
       "  .ansiout {\n",
       "    display: block;\n",
       "    unicode-bidi: embed;\n",
       "    white-space: pre-wrap;\n",
       "    word-wrap: break-word;\n",
       "    word-break: break-all;\n",
       "    font-family: \"Source Code Pro\", \"Menlo\", monospace;;\n",
       "    font-size: 13px;\n",
       "    color: #555;\n",
       "    margin-left: 4px;\n",
       "    line-height: 19px;\n",
       "  }\n",
       "</style>\n",
       "<div class=\"ansiout\">6896 out of 22156 movies are rated by only one user\n",
       "</div>"
      ]
     },
     "metadata": {},
     "output_type": "display_data"
    }
   ],
   "source": [
    "tmp1 = sum(ratings_df.groupBy(\"movieId\").count().toPandas()['count'] == 1)\n",
    "tmp2 = ratings_df.select('movieId').distinct().count()\n",
    "print('{} out of {} movies are rated by only one user'.format(tmp1, tmp2))"
   ]
  },
  {
   "cell_type": "markdown",
   "metadata": {},
   "source": [
    "## Part 1: Spark SQL and Data processing"
   ]
  },
  {
   "cell_type": "code",
   "execution_count": 16,
   "metadata": {},
   "outputs": [
    {
     "data": {
      "text/html": [
       "<style scoped>\n",
       "  .ansiout {\n",
       "    display: block;\n",
       "    unicode-bidi: embed;\n",
       "    white-space: pre-wrap;\n",
       "    word-wrap: break-word;\n",
       "    word-break: break-all;\n",
       "    font-family: \"Source Code Pro\", \"Menlo\", monospace;;\n",
       "    font-size: 13px;\n",
       "    color: #555;\n",
       "    margin-left: 4px;\n",
       "    line-height: 19px;\n",
       "  }\n",
       "</style>\n",
       "<div class=\"ansiout\"></div>"
      ]
     },
     "metadata": {},
     "output_type": "display_data"
    }
   ],
   "source": [
    "movies_df.registerTempTable(\"movies\")\n",
    "ratings_df.registerTempTable(\"ratings\")\n",
    "links_df.registerTempTable(\"links\")\n",
    "tags_df.registerTempTable(\"tags\")"
   ]
  },
  {
   "cell_type": "markdown",
   "metadata": {},
   "source": [
    "### Q1: The number of Users"
   ]
  },
  {
   "cell_type": "code",
   "execution_count": 18,
   "metadata": {},
   "outputs": [
    {
     "data": {
      "text/html": [
       "<style scoped>\n",
       "  .table-result-container {\n",
       "    max-height: 300px;\n",
       "    overflow: auto;\n",
       "  }\n",
       "  table, th, td {\n",
       "    border: 1px solid black;\n",
       "    border-collapse: collapse;\n",
       "  }\n",
       "  th, td {\n",
       "    padding: 5px;\n",
       "  }\n",
       "  th {\n",
       "    text-align: left;\n",
       "  }\n",
       "</style><div class='table-result-container'><table class='table-result'><thead style='background-color: white'><tr><th>num_users</th></tr></thead><tbody><tr><td>10532</td></tr></tbody></table></div>"
      ]
     },
     "metadata": {},
     "output_type": "display_data"
    }
   ],
   "source": [
    "# %sql\n",
    "num_users = spark.sql(\"SELECT count (distinct userID) as num_users FROM ratings\")\n",
    "display(num_users)"
   ]
  },
  {
   "cell_type": "code",
   "execution_count": 19,
   "metadata": {},
   "outputs": [
    {
     "data": {
      "text/html": [
       "<style scoped>\n",
       "  .ansiout {\n",
       "    display: block;\n",
       "    unicode-bidi: embed;\n",
       "    white-space: pre-wrap;\n",
       "    word-wrap: break-word;\n",
       "    word-break: break-all;\n",
       "    font-family: \"Source Code Pro\", \"Menlo\", monospace;;\n",
       "    font-size: 13px;\n",
       "    color: #555;\n",
       "    margin-left: 4px;\n",
       "    line-height: 19px;\n",
       "  }\n",
       "</style>\n",
       "<div class=\"ansiout\">Out[14]: 10532</div>"
      ]
     },
     "metadata": {},
     "output_type": "display_data"
    }
   ],
   "source": [
    "ratings_df.select(\"userId\").distinct().count()"
   ]
  },
  {
   "cell_type": "code",
   "execution_count": 20,
   "metadata": {},
   "outputs": [
    {
     "data": {
      "text/html": [
       "<style scoped>\n",
       "  .ansiout {\n",
       "    display: block;\n",
       "    unicode-bidi: embed;\n",
       "    white-space: pre-wrap;\n",
       "    word-wrap: break-word;\n",
       "    word-break: break-all;\n",
       "    font-family: \"Source Code Pro\", \"Menlo\", monospace;;\n",
       "    font-size: 13px;\n",
       "    color: #555;\n",
       "    margin-left: 4px;\n",
       "    line-height: 19px;\n",
       "  }\n",
       "</style>\n",
       "<div class=\"ansiout\">Out[15]: pyspark.sql.dataframe.DataFrame</div>"
      ]
     },
     "metadata": {},
     "output_type": "display_data"
    }
   ],
   "source": [
    "type(ratings_df.select(\"userId\"))"
   ]
  },
  {
   "cell_type": "markdown",
   "metadata": {},
   "source": [
    "### Q2: The number of Movies"
   ]
  },
  {
   "cell_type": "code",
   "execution_count": 22,
   "metadata": {},
   "outputs": [
    {
     "data": {
      "text/html": [
       "<style scoped>\n",
       "  .table-result-container {\n",
       "    max-height: 300px;\n",
       "    overflow: auto;\n",
       "  }\n",
       "  table, th, td {\n",
       "    border: 1px solid black;\n",
       "    border-collapse: collapse;\n",
       "  }\n",
       "  th, td {\n",
       "    padding: 5px;\n",
       "  }\n",
       "  th {\n",
       "    text-align: left;\n",
       "  }\n",
       "</style><div class='table-result-container'><table class='table-result'><thead style='background-color: white'><tr><th>num_movies</th></tr></thead><tbody><tr><td>58098</td></tr></tbody></table></div>"
      ]
     },
     "metadata": {},
     "output_type": "display_data"
    }
   ],
   "source": [
    "#%sql \n",
    "num_movies = spark.sql(\"SELECT count (distinct movieID) as num_movies FROM movies\")\n",
    "display(num_movies)"
   ]
  },
  {
   "cell_type": "code",
   "execution_count": 23,
   "metadata": {},
   "outputs": [
    {
     "data": {
      "text/html": [
       "<style scoped>\n",
       "  .ansiout {\n",
       "    display: block;\n",
       "    unicode-bidi: embed;\n",
       "    white-space: pre-wrap;\n",
       "    word-wrap: break-word;\n",
       "    word-break: break-all;\n",
       "    font-family: \"Source Code Pro\", \"Menlo\", monospace;;\n",
       "    font-size: 13px;\n",
       "    color: #555;\n",
       "    margin-left: 4px;\n",
       "    line-height: 19px;\n",
       "  }\n",
       "</style>\n",
       "<div class=\"ansiout\">Out[17]: 58098</div>"
      ]
     },
     "metadata": {},
     "output_type": "display_data"
    }
   ],
   "source": [
    "movies_df.select('movieID').distinct().count()"
   ]
  },
  {
   "cell_type": "code",
   "execution_count": 24,
   "metadata": {},
   "outputs": [
    {
     "data": {
      "text/html": [
       "<style scoped>\n",
       "  .ansiout {\n",
       "    display: block;\n",
       "    unicode-bidi: embed;\n",
       "    white-space: pre-wrap;\n",
       "    word-wrap: break-word;\n",
       "    word-break: break-all;\n",
       "    font-family: \"Source Code Pro\", \"Menlo\", monospace;;\n",
       "    font-size: 13px;\n",
       "    color: #555;\n",
       "    margin-left: 4px;\n",
       "    line-height: 19px;\n",
       "  }\n",
       "</style>\n",
       "<div class=\"ansiout\">Out[18]: 58098</div>"
      ]
     },
     "metadata": {},
     "output_type": "display_data"
    }
   ],
   "source": [
    "movies_df.select('movieID').count()"
   ]
  },
  {
   "cell_type": "markdown",
   "metadata": {},
   "source": [
    "### Q3:  the number of rates of user"
   ]
  },
  {
   "cell_type": "code",
   "execution_count": 26,
   "metadata": {},
   "outputs": [
    {
     "data": {
      "text/html": [
       "<style scoped>\n",
       "  .ansiout {\n",
       "    display: block;\n",
       "    unicode-bidi: embed;\n",
       "    white-space: pre-wrap;\n",
       "    word-wrap: break-word;\n",
       "    word-break: break-all;\n",
       "    font-family: \"Source Code Pro\", \"Menlo\", monospace;;\n",
       "    font-size: 13px;\n",
       "    color: #555;\n",
       "    margin-left: 4px;\n",
       "    line-height: 19px;\n",
       "  }\n",
       "</style>\n",
       "<div class=\"ansiout\">How many movies are rated by users? 22156\n",
       "</div>"
      ]
     },
     "metadata": {},
     "output_type": "display_data"
    }
   ],
   "source": [
    "rated_by_users = ratings_df.select('movieID').distinct().count()\n",
    "print('How many movies are rated by users?', rated_by_users)"
   ]
  },
  {
   "cell_type": "code",
   "execution_count": 27,
   "metadata": {},
   "outputs": [
    {
     "data": {
      "text/html": [
       "<style scoped>\n",
       "  .table-result-container {\n",
       "    max-height: 300px;\n",
       "    overflow: auto;\n",
       "  }\n",
       "  table, th, td {\n",
       "    border: 1px solid black;\n",
       "    border-collapse: collapse;\n",
       "  }\n",
       "  th, td {\n",
       "    padding: 5px;\n",
       "  }\n",
       "  th {\n",
       "    text-align: left;\n",
       "  }\n",
       "</style><div class='table-result-container'><table class='table-result'><thead style='background-color: white'><tr><th>title</th><th>genres</th><th>rating</th></tr></thead><tbody><tr><td>One-Eyed Monster (2008)</td><td>Comedy|Horror|Sci-Fi</td><td>null</td></tr><tr><td>Deep in the Valley (American Hot Babes) (2009)</td><td>Comedy</td><td>null</td></tr><tr><td>Love and Lemons (Små citroner gula) (2013)</td><td>Romance</td><td>null</td></tr><tr><td>Deathsport (1978)</td><td>Action|Sci-Fi</td><td>null</td></tr><tr><td>Narrien illat (1970) </td><td>Comedy|Drama|Musical</td><td>null</td></tr><tr><td>Tortured (2008)</td><td>Crime|Thriller</td><td>null</td></tr><tr><td>World War II: When Lions Roared (1994)</td><td>Drama|War</td><td>null</td></tr><tr><td>Crocodile (2000)</td><td>Horror|Thriller</td><td>null</td></tr><tr><td>Wind Journeys, The (Viajes del viento, Los) (2009)</td><td>Drama</td><td>null</td></tr><tr><td>Apartment 1303 (2007)</td><td>Horror</td><td>null</td></tr></tbody></table></div>"
      ]
     },
     "metadata": {},
     "output_type": "display_data"
    }
   ],
   "source": [
    "%sql\n",
    "SELECT movies.title, movies.genres ,ratings.rating FROM movies left JOIN ratings ON ratings.movieId = movies.movieID WHERE ratings.rating IS null LIMIT 10"
   ]
  },
  {
   "cell_type": "markdown",
   "metadata": {},
   "source": [
    "### Q4: List Movie Genres"
   ]
  },
  {
   "cell_type": "code",
   "execution_count": 29,
   "metadata": {},
   "outputs": [
    {
     "data": {
      "text/html": [
       "<style scoped>\n",
       "  .table-result-container {\n",
       "    max-height: 300px;\n",
       "    overflow: auto;\n",
       "  }\n",
       "  table, th, td {\n",
       "    border: 1px solid black;\n",
       "    border-collapse: collapse;\n",
       "  }\n",
       "  th, td {\n",
       "    padding: 5px;\n",
       "  }\n",
       "  th {\n",
       "    text-align: left;\n",
       "  }\n",
       "</style><div class='table-result-container'><table class='table-result'><thead style='background-color: white'><tr><th>genres</th></tr></thead><tbody><tr><td>Comedy|Horror</td></tr><tr><td>Adventure|Children</td></tr><tr><td>Action|Crime|Thriller</td></tr><tr><td>Adventure|Animation|Children|Comedy|Fantasy</td></tr><tr><td>Comedy|Romance</td></tr><tr><td>Action|Adventure|Thriller</td></tr><tr><td>Comedy</td></tr><tr><td>Action</td></tr><tr><td>Comedy|Drama|Romance</td></tr><tr><td>Adventure|Children|Fantasy</td></tr></tbody></table></div>"
      ]
     },
     "metadata": {},
     "output_type": "display_data"
    }
   ],
   "source": [
    "%sql\n",
    "SELECT DISTINCT(genres) FROM movies LIMIT 10"
   ]
  },
  {
   "cell_type": "code",
   "execution_count": 30,
   "metadata": {},
   "outputs": [
    {
     "data": {
      "text/html": [
       "<style scoped>\n",
       "  .table-result-container {\n",
       "    max-height: 300px;\n",
       "    overflow: auto;\n",
       "  }\n",
       "  table, th, td {\n",
       "    border: 1px solid black;\n",
       "    border-collapse: collapse;\n",
       "  }\n",
       "  th, td {\n",
       "    padding: 5px;\n",
       "  }\n",
       "  th {\n",
       "    text-align: left;\n",
       "  }\n",
       "</style><div class='table-result-container'><table class='table-result'><thead style='background-color: white'><tr><th>genre</th></tr></thead><tbody><tr><td>(no genres listed)</td></tr><tr><td>Action</td></tr><tr><td>Adventure</td></tr><tr><td>Animation</td></tr><tr><td>Children</td></tr><tr><td>Comedy</td></tr><tr><td>Crime</td></tr><tr><td>Documentary</td></tr><tr><td>Drama</td></tr><tr><td>Fantasy</td></tr><tr><td>Film-Noir</td></tr><tr><td>Horror</td></tr><tr><td>IMAX</td></tr><tr><td>Musical</td></tr><tr><td>Mystery</td></tr><tr><td>Romance</td></tr><tr><td>Sci-Fi</td></tr><tr><td>Thriller</td></tr><tr><td>War</td></tr><tr><td>Western</td></tr></tbody></table></div>"
      ]
     },
     "metadata": {},
     "output_type": "display_data"
    }
   ],
   "source": [
    "%sql\n",
    "SELECT SUBSTRING_INDEX(SUBSTRING_INDEX(genres, '|', 1), '|', -1) as genre FROM movies\n",
    "UNION\n",
    "SELECT  SUBSTRING_INDEX(SUBSTRING_INDEX(genres, '|', 2), '|', -1) as genre FROM movies\n",
    "UNION\n",
    "SELECT  SUBSTRING_INDEX(SUBSTRING_INDEX(genres, '|', 3), '|', -1) as genre FROM movies\n",
    "UNION\n",
    "SELECT  SUBSTRING_INDEX(SUBSTRING_INDEX(genres, '|', 4), '|', -1) as genre FROM movies\n",
    "UNION\n",
    "SELECT  SUBSTRING_INDEX(SUBSTRING_INDEX(genres, '|', 5), '|', -1) as genre FROM movies\n",
    "UNION\n",
    "SELECT  SUBSTRING_INDEX(SUBSTRING_INDEX(genres, '|', 6), '|', -1) as genre FROM movies\n",
    "ORDER BY genre;\n",
    "\n",
    "--This is method I do not like"
   ]
  },
  {
   "cell_type": "code",
   "execution_count": 31,
   "metadata": {},
   "outputs": [
    {
     "data": {
      "text/html": [
       "<style scoped>\n",
       "  .table-result-container {\n",
       "    max-height: 300px;\n",
       "    overflow: auto;\n",
       "  }\n",
       "  table, th, td {\n",
       "    border: 1px solid black;\n",
       "    border-collapse: collapse;\n",
       "  }\n",
       "  th, td {\n",
       "    padding: 5px;\n",
       "  }\n",
       "  th {\n",
       "    text-align: left;\n",
       "  }\n",
       "</style><div class='table-result-container'><table class='table-result'><thead style='background-color: white'><tr><th>movieId</th><th>title</th><th>genres</th></tr></thead><tbody><tr><td>1</td><td>Toy Story (1995)</td><td>List(Adventure, Animation, Children, Comedy, Fantasy)</td></tr><tr><td>2</td><td>Jumanji (1995)</td><td>List(Adventure, Children, Fantasy)</td></tr><tr><td>3</td><td>Grumpier Old Men (1995)</td><td>List(Comedy, Romance)</td></tr><tr><td>4</td><td>Waiting to Exhale (1995)</td><td>List(Comedy, Drama, Romance)</td></tr><tr><td>5</td><td>Father of the Bride Part II (1995)</td><td>List(Comedy)</td></tr></tbody></table></div>"
      ]
     },
     "metadata": {},
     "output_type": "display_data"
    }
   ],
   "source": [
    "from pyspark.sql.types import *\n",
    "from pyspark.sql.functions import col, mean, udf, lit, current_timestamp, unix_timestamp, array_contains\n",
    "extract_genres = udf(lambda x: x.split(\"|\"), ArrayType(StringType()))\n",
    "movies_df_clean = movies_df.select(\"movieId\", \"title\", extract_genres(\"genres\").alias(\"genres\"))\n",
    "#display(movies_df_clean)\n",
    "\n",
    "movies_df_clean.createOrReplaceTempView(\"movies_df_clean\")\n",
    "\n",
    "display (spark.sql(\"SELECT * FROM movies_df_clean limit 5\"))"
   ]
  },
  {
   "cell_type": "code",
   "execution_count": 32,
   "metadata": {},
   "outputs": [
    {
     "data": {
      "text/html": [
       "<style scoped>\n",
       "  .ansiout {\n",
       "    display: block;\n",
       "    unicode-bidi: embed;\n",
       "    white-space: pre-wrap;\n",
       "    word-wrap: break-word;\n",
       "    word-break: break-all;\n",
       "    font-family: \"Source Code Pro\", \"Menlo\", monospace;;\n",
       "    font-size: 13px;\n",
       "    color: #555;\n",
       "    margin-left: 4px;\n",
       "    line-height: 19px;\n",
       "  }\n",
       "</style>\n",
       "<div class=\"ansiout\">Out[21]: [&#39;Sci-Fi&#39;,\n",
       " &#39;Adventure&#39;,\n",
       " &#39;Romance&#39;,\n",
       " &#39;Drama&#39;,\n",
       " &#39;Animation&#39;,\n",
       " &#39;Western&#39;,\n",
       " &#39;Documentary&#39;,\n",
       " &#39;Thriller&#39;,\n",
       " &#39;Fantasy&#39;,\n",
       " &#39;War&#39;,\n",
       " &#39;Film-Noir&#39;,\n",
       " &#39;Horror&#39;,\n",
       " &#39;Action&#39;,\n",
       " &#39;(no genres listed)&#39;,\n",
       " &#39;Musical&#39;,\n",
       " &#39;Children&#39;,\n",
       " &#39;Crime&#39;,\n",
       " &#39;Comedy&#39;,\n",
       " &#39;Mystery&#39;,\n",
       " &#39;IMAX&#39;]</div>"
      ]
     },
     "metadata": {},
     "output_type": "display_data"
    }
   ],
   "source": [
    "genres_result = list(set(movies_df_clean.select('genres').rdd.flatMap(tuple).flatMap(tuple).collect()))\n",
    "genres_result"
   ]
  },
  {
   "cell_type": "markdown",
   "metadata": {},
   "source": [
    "### Q5: Movie for Each Category"
   ]
  },
  {
   "cell_type": "code",
   "execution_count": 34,
   "metadata": {},
   "outputs": [
    {
     "data": {
      "text/html": [
       "<style scoped>\n",
       "  .ansiout {\n",
       "    display: block;\n",
       "    unicode-bidi: embed;\n",
       "    white-space: pre-wrap;\n",
       "    word-wrap: break-word;\n",
       "    word-break: break-all;\n",
       "    font-family: \"Source Code Pro\", \"Menlo\", monospace;;\n",
       "    font-size: 13px;\n",
       "    color: #555;\n",
       "    margin-left: 4px;\n",
       "    line-height: 19px;\n",
       "  }\n",
       "</style>\n",
       "<div class=\"ansiout\">Out[22]: [&#39;Sci-Fi&#39;,\n",
       " &#39;Adventure&#39;,\n",
       " &#39;Romance&#39;,\n",
       " &#39;Drama&#39;,\n",
       " &#39;Animation&#39;,\n",
       " &#39;Western&#39;,\n",
       " &#39;Documentary&#39;,\n",
       " &#39;Thriller&#39;,\n",
       " &#39;Fantasy&#39;,\n",
       " &#39;War&#39;,\n",
       " &#39;Film-Noir&#39;,\n",
       " &#39;Horror&#39;,\n",
       " &#39;Action&#39;,\n",
       " &#39;(no genres listed)&#39;,\n",
       " &#39;Musical&#39;,\n",
       " &#39;Children&#39;,\n",
       " &#39;Crime&#39;,\n",
       " &#39;Comedy&#39;,\n",
       " &#39;Mystery&#39;,\n",
       " &#39;IMAX&#39;]</div>"
      ]
     },
     "metadata": {},
     "output_type": "display_data"
    }
   ],
   "source": [
    "genres_result = list(set(movies_df_clean.select('genres').rdd.flatMap(tuple).flatMap(tuple).collect()))\n",
    "genres_result"
   ]
  },
  {
   "cell_type": "code",
   "execution_count": 35,
   "metadata": {},
   "outputs": [
    {
     "data": {
      "text/html": [
       "<div>\n",
       "<style scoped>\n",
       "    .dataframe tbody tr th:only-of-type {\n",
       "        vertical-align: middle;\n",
       "    }\n",
       "\n",
       "    .dataframe tbody tr th {\n",
       "        vertical-align: top;\n",
       "    }\n",
       "\n",
       "    .dataframe thead th {\n",
       "        text-align: right;\n",
       "    }\n",
       "</style>\n",
       "<table border=\"1\" class=\"dataframe\">\n",
       "  <thead>\n",
       "    <tr style=\"text-align: right;\">\n",
       "      <th></th>\n",
       "      <th>(no genres listed)</th>\n",
       "      <th>Action</th>\n",
       "      <th>Adventure</th>\n",
       "      <th>Animation</th>\n",
       "      <th>Children</th>\n",
       "      <th>Comedy</th>\n",
       "      <th>Crime</th>\n",
       "      <th>Documentary</th>\n",
       "      <th>Drama</th>\n",
       "      <th>Fantasy</th>\n",
       "      <th>Film-Noir</th>\n",
       "      <th>Horror</th>\n",
       "      <th>IMAX</th>\n",
       "      <th>Musical</th>\n",
       "      <th>Mystery</th>\n",
       "      <th>Romance</th>\n",
       "      <th>Sci-Fi</th>\n",
       "      <th>Thriller</th>\n",
       "      <th>War</th>\n",
       "      <th>Western</th>\n",
       "    </tr>\n",
       "  </thead>\n",
       "  <tbody>\n",
       "    <tr>\n",
       "      <th>0</th>\n",
       "      <td>0</td>\n",
       "      <td>0</td>\n",
       "      <td>1</td>\n",
       "      <td>1</td>\n",
       "      <td>1</td>\n",
       "      <td>1</td>\n",
       "      <td>0</td>\n",
       "      <td>0</td>\n",
       "      <td>0</td>\n",
       "      <td>1</td>\n",
       "      <td>0</td>\n",
       "      <td>0</td>\n",
       "      <td>0</td>\n",
       "      <td>0</td>\n",
       "      <td>0</td>\n",
       "      <td>0</td>\n",
       "      <td>0</td>\n",
       "      <td>0</td>\n",
       "      <td>0</td>\n",
       "      <td>0</td>\n",
       "    </tr>\n",
       "    <tr>\n",
       "      <th>1</th>\n",
       "      <td>0</td>\n",
       "      <td>0</td>\n",
       "      <td>1</td>\n",
       "      <td>0</td>\n",
       "      <td>1</td>\n",
       "      <td>0</td>\n",
       "      <td>0</td>\n",
       "      <td>0</td>\n",
       "      <td>0</td>\n",
       "      <td>1</td>\n",
       "      <td>0</td>\n",
       "      <td>0</td>\n",
       "      <td>0</td>\n",
       "      <td>0</td>\n",
       "      <td>0</td>\n",
       "      <td>0</td>\n",
       "      <td>0</td>\n",
       "      <td>0</td>\n",
       "      <td>0</td>\n",
       "      <td>0</td>\n",
       "    </tr>\n",
       "    <tr>\n",
       "      <th>2</th>\n",
       "      <td>0</td>\n",
       "      <td>0</td>\n",
       "      <td>0</td>\n",
       "      <td>0</td>\n",
       "      <td>0</td>\n",
       "      <td>1</td>\n",
       "      <td>0</td>\n",
       "      <td>0</td>\n",
       "      <td>0</td>\n",
       "      <td>0</td>\n",
       "      <td>0</td>\n",
       "      <td>0</td>\n",
       "      <td>0</td>\n",
       "      <td>0</td>\n",
       "      <td>0</td>\n",
       "      <td>1</td>\n",
       "      <td>0</td>\n",
       "      <td>0</td>\n",
       "      <td>0</td>\n",
       "      <td>0</td>\n",
       "    </tr>\n",
       "    <tr>\n",
       "      <th>3</th>\n",
       "      <td>0</td>\n",
       "      <td>0</td>\n",
       "      <td>0</td>\n",
       "      <td>0</td>\n",
       "      <td>0</td>\n",
       "      <td>1</td>\n",
       "      <td>0</td>\n",
       "      <td>0</td>\n",
       "      <td>1</td>\n",
       "      <td>0</td>\n",
       "      <td>0</td>\n",
       "      <td>0</td>\n",
       "      <td>0</td>\n",
       "      <td>0</td>\n",
       "      <td>0</td>\n",
       "      <td>1</td>\n",
       "      <td>0</td>\n",
       "      <td>0</td>\n",
       "      <td>0</td>\n",
       "      <td>0</td>\n",
       "    </tr>\n",
       "    <tr>\n",
       "      <th>4</th>\n",
       "      <td>0</td>\n",
       "      <td>0</td>\n",
       "      <td>0</td>\n",
       "      <td>0</td>\n",
       "      <td>0</td>\n",
       "      <td>1</td>\n",
       "      <td>0</td>\n",
       "      <td>0</td>\n",
       "      <td>0</td>\n",
       "      <td>0</td>\n",
       "      <td>0</td>\n",
       "      <td>0</td>\n",
       "      <td>0</td>\n",
       "      <td>0</td>\n",
       "      <td>0</td>\n",
       "      <td>0</td>\n",
       "      <td>0</td>\n",
       "      <td>0</td>\n",
       "      <td>0</td>\n",
       "      <td>0</td>\n",
       "    </tr>\n",
       "  </tbody>\n",
       "</table>\n",
       "</div>"
      ]
     },
     "metadata": {},
     "output_type": "display_data"
    }
   ],
   "source": [
    "movie_pdf = movies_df.toPandas()\n",
    "movie_pdf['genres'].str.get_dummies(sep='|').head()"
   ]
  },
  {
   "cell_type": "code",
   "execution_count": 36,
   "metadata": {},
   "outputs": [
    {
     "data": {
      "text/html": [
       "<style scoped>\n",
       "  .ansiout {\n",
       "    display: block;\n",
       "    unicode-bidi: embed;\n",
       "    white-space: pre-wrap;\n",
       "    word-wrap: break-word;\n",
       "    word-break: break-all;\n",
       "    font-family: \"Source Code Pro\", \"Menlo\", monospace;;\n",
       "    font-size: 13px;\n",
       "    color: #555;\n",
       "    margin-left: 4px;\n",
       "    line-height: 19px;\n",
       "  }\n",
       "</style>\n",
       "<div class=\"ansiout\"></div>"
      ]
     },
     "metadata": {},
     "output_type": "display_data"
    }
   ],
   "source": [
    "list_of_movie = list(movie_pdf['title'])"
   ]
  },
  {
   "cell_type": "markdown",
   "metadata": {},
   "source": [
    "## Part2: Spark ALS based approach for training model"
   ]
  },
  {
   "cell_type": "code",
   "execution_count": 38,
   "metadata": {},
   "outputs": [
    {
     "data": {
      "text/html": [
       "<style scoped>\n",
       "  .table-result-container {\n",
       "    max-height: 300px;\n",
       "    overflow: auto;\n",
       "  }\n",
       "  table, th, td {\n",
       "    border: 1px solid black;\n",
       "    border-collapse: collapse;\n",
       "  }\n",
       "  th, td {\n",
       "    padding: 5px;\n",
       "  }\n",
       "  th {\n",
       "    text-align: left;\n",
       "  }\n",
       "</style><div class='table-result-container'><table class='table-result'><thead style='background-color: white'><tr><th>userId</th><th>movieId</th><th>rating</th><th>timestamp</th></tr></thead><tbody><tr><td>1</td><td>307</td><td>3.5</td><td>1256677221</td></tr><tr><td>1</td><td>481</td><td>3.5</td><td>1256677456</td></tr><tr><td>1</td><td>1091</td><td>1.5</td><td>1256677471</td></tr><tr><td>1</td><td>1257</td><td>4.5</td><td>1256677460</td></tr><tr><td>1</td><td>1449</td><td>4.5</td><td>1256677264</td></tr></tbody></table></div>"
      ]
     },
     "metadata": {},
     "output_type": "display_data"
    }
   ],
   "source": [
    "#ratings_df.show(10)\n",
    "\n",
    "ratings_df.createOrReplaceTempView(\"ratings_df\")\n",
    "\n",
    "display (spark.sql(\"SELECT * FROM ratings_df limit 5\"))"
   ]
  },
  {
   "cell_type": "code",
   "execution_count": 39,
   "metadata": {},
   "outputs": [
    {
     "data": {
      "text/html": [
       "<style scoped>\n",
       "  .ansiout {\n",
       "    display: block;\n",
       "    unicode-bidi: embed;\n",
       "    white-space: pre-wrap;\n",
       "    word-wrap: break-word;\n",
       "    word-break: break-all;\n",
       "    font-family: \"Source Code Pro\", \"Menlo\", monospace;;\n",
       "    font-size: 13px;\n",
       "    color: #555;\n",
       "    margin-left: 4px;\n",
       "    line-height: 19px;\n",
       "  }\n",
       "</style>\n",
       "<div class=\"ansiout\"></div>"
      ]
     },
     "metadata": {},
     "output_type": "display_data"
    }
   ],
   "source": [
    "movie_ratings=ratings_df.drop('timestamp')"
   ]
  },
  {
   "cell_type": "code",
   "execution_count": 40,
   "metadata": {},
   "outputs": [
    {
     "data": {
      "text/html": [
       "<style scoped>\n",
       "  .ansiout {\n",
       "    display: block;\n",
       "    unicode-bidi: embed;\n",
       "    white-space: pre-wrap;\n",
       "    word-wrap: break-word;\n",
       "    word-break: break-all;\n",
       "    font-family: \"Source Code Pro\", \"Menlo\", monospace;;\n",
       "    font-size: 13px;\n",
       "    color: #555;\n",
       "    margin-left: 4px;\n",
       "    line-height: 19px;\n",
       "  }\n",
       "</style>\n",
       "<div class=\"ansiout\"></div>"
      ]
     },
     "metadata": {},
     "output_type": "display_data"
    }
   ],
   "source": [
    "# Data type convert\n",
    "from pyspark.sql.types import IntegerType, FloatType\n",
    "movie_ratings = movie_ratings.withColumn(\"userId\", movie_ratings[\"userId\"].cast(IntegerType()))\n",
    "movie_ratings = movie_ratings.withColumn(\"movieId\", movie_ratings[\"movieId\"].cast(IntegerType()))\n",
    "movie_ratings = movie_ratings.withColumn(\"rating\", movie_ratings[\"rating\"].cast(FloatType()))"
   ]
  },
  {
   "cell_type": "code",
   "execution_count": 41,
   "metadata": {},
   "outputs": [
    {
     "data": {
      "text/html": [
       "<style scoped>\n",
       "  .table-result-container {\n",
       "    max-height: 300px;\n",
       "    overflow: auto;\n",
       "  }\n",
       "  table, th, td {\n",
       "    border: 1px solid black;\n",
       "    border-collapse: collapse;\n",
       "  }\n",
       "  th, td {\n",
       "    padding: 5px;\n",
       "  }\n",
       "  th {\n",
       "    text-align: left;\n",
       "  }\n",
       "</style><div class='table-result-container'><table class='table-result'><thead style='background-color: white'><tr><th>userId</th><th>movieId</th><th>rating</th></tr></thead><tbody><tr><td>1</td><td>307</td><td>3.5</td></tr><tr><td>1</td><td>481</td><td>3.5</td></tr><tr><td>1</td><td>1091</td><td>1.5</td></tr><tr><td>1</td><td>1257</td><td>4.5</td></tr><tr><td>1</td><td>1449</td><td>4.5</td></tr><tr><td>1</td><td>1590</td><td>2.5</td></tr><tr><td>1</td><td>1591</td><td>1.5</td></tr><tr><td>1</td><td>2134</td><td>4.5</td></tr><tr><td>1</td><td>2478</td><td>4.0</td></tr><tr><td>1</td><td>2840</td><td>3.0</td></tr></tbody></table></div>"
      ]
     },
     "metadata": {},
     "output_type": "display_data"
    }
   ],
   "source": [
    "#movie_ratings.show(10)\n",
    "\n",
    "movie_ratings.createOrReplaceTempView(\"movie_ratings\")\n",
    "\n",
    "display (spark.sql(\"SELECT * FROM movie_ratings limit 10\"))"
   ]
  },
  {
   "cell_type": "markdown",
   "metadata": {},
   "source": [
    "### ALS Model and Evaluation"
   ]
  },
  {
   "cell_type": "code",
   "execution_count": 43,
   "metadata": {},
   "outputs": [
    {
     "data": {
      "text/html": [
       "<style scoped>\n",
       "  .ansiout {\n",
       "    display: block;\n",
       "    unicode-bidi: embed;\n",
       "    white-space: pre-wrap;\n",
       "    word-wrap: break-word;\n",
       "    word-break: break-all;\n",
       "    font-family: \"Source Code Pro\", \"Menlo\", monospace;;\n",
       "    font-size: 13px;\n",
       "    color: #555;\n",
       "    margin-left: 4px;\n",
       "    line-height: 19px;\n",
       "  }\n",
       "</style>\n",
       "<div class=\"ansiout\"></div>"
      ]
     },
     "metadata": {},
     "output_type": "display_data"
    }
   ],
   "source": [
    "# import package\n",
    "from pyspark.ml.evaluation import RegressionEvaluator\n",
    "from pyspark.ml.recommendation import ALS\n",
    "from pyspark.ml.tuning import CrossValidator,ParamGridBuilder"
   ]
  },
  {
   "cell_type": "code",
   "execution_count": 44,
   "metadata": {},
   "outputs": [
    {
     "data": {
      "text/html": [
       "<style scoped>\n",
       "  .ansiout {\n",
       "    display: block;\n",
       "    unicode-bidi: embed;\n",
       "    white-space: pre-wrap;\n",
       "    word-wrap: break-word;\n",
       "    word-break: break-all;\n",
       "    font-family: \"Source Code Pro\", \"Menlo\", monospace;;\n",
       "    font-size: 13px;\n",
       "    color: #555;\n",
       "    margin-left: 4px;\n",
       "    line-height: 19px;\n",
       "  }\n",
       "</style>\n",
       "<div class=\"ansiout\"></div>"
      ]
     },
     "metadata": {},
     "output_type": "display_data"
    }
   ],
   "source": [
    "#Create test and train set\n",
    "(training,test)=movie_ratings.randomSplit([0.8,0.2])"
   ]
  },
  {
   "cell_type": "code",
   "execution_count": 45,
   "metadata": {},
   "outputs": [
    {
     "data": {
      "text/html": [
       "<style scoped>\n",
       "  .ansiout {\n",
       "    display: block;\n",
       "    unicode-bidi: embed;\n",
       "    white-space: pre-wrap;\n",
       "    word-wrap: break-word;\n",
       "    word-break: break-all;\n",
       "    font-family: \"Source Code Pro\", \"Menlo\", monospace;;\n",
       "    font-size: 13px;\n",
       "    color: #555;\n",
       "    margin-left: 4px;\n",
       "    line-height: 19px;\n",
       "  }\n",
       "</style>\n",
       "<div class=\"ansiout\"></div>"
      ]
     },
     "metadata": {},
     "output_type": "display_data"
    }
   ],
   "source": [
    "# Create ALS model\n",
    "# Build the recommendation model using ALS on the training data\n",
    "# Note we set cold start strategy to 'drop' to ensure we don't get NaN evaluation metrics\n",
    "als = ALS(maxIter=5, rank=10, regParam=0.01, userCol=\"userId\", itemCol=\"movieId\", ratingCol=\"rating\",\n",
    "          coldStartStrategy=\"drop\")"
   ]
  },
  {
   "cell_type": "code",
   "execution_count": 46,
   "metadata": {},
   "outputs": [
    {
     "data": {
      "text/html": [
       "<style scoped>\n",
       "  .ansiout {\n",
       "    display: block;\n",
       "    unicode-bidi: embed;\n",
       "    white-space: pre-wrap;\n",
       "    word-wrap: break-word;\n",
       "    word-break: break-all;\n",
       "    font-family: \"Source Code Pro\", \"Menlo\", monospace;;\n",
       "    font-size: 13px;\n",
       "    color: #555;\n",
       "    margin-left: 4px;\n",
       "    line-height: 19px;\n",
       "  }\n",
       "</style>\n",
       "<div class=\"ansiout\">alpha: alpha for implicit preference (default: 1.0)\n",
       "checkpointInterval: set checkpoint interval (&gt;= 1) or disable checkpoint (-1). E.g. 10 means that the cache will get checkpointed every 10 iterations. Note: this setting will be ignored if the checkpoint directory is not set in the SparkContext. (default: 10)\n",
       "coldStartStrategy: strategy for dealing with unknown or new users/items at prediction time. This may be useful in cross-validation or production scenarios, for handling user/item ids the model has not seen in the training data. Supported values: &#39;nan&#39;, &#39;drop&#39;. (default: nan, current: drop)\n",
       "finalStorageLevel: StorageLevel for ALS model factors. (default: MEMORY_AND_DISK)\n",
       "implicitPrefs: whether to use implicit preference (default: False)\n",
       "intermediateStorageLevel: StorageLevel for intermediate datasets. Cannot be &#39;NONE&#39;. (default: MEMORY_AND_DISK)\n",
       "itemCol: column name for item ids. Ids must be within the integer value range. (default: item, current: movieId)\n",
       "maxIter: max number of iterations (&gt;= 0). (default: 10, current: 5)\n",
       "nonnegative: whether to use nonnegative constraint for least squares (default: False)\n",
       "numItemBlocks: number of item blocks (default: 10)\n",
       "numUserBlocks: number of user blocks (default: 10)\n",
       "predictionCol: prediction column name. (default: prediction)\n",
       "rank: rank of the factorization (default: 10, current: 10)\n",
       "ratingCol: column name for ratings (default: rating, current: rating)\n",
       "regParam: regularization parameter (&gt;= 0). (default: 0.1, current: 0.01)\n",
       "seed: random seed. (default: -1517157561977538513)\n",
       "userCol: column name for user ids. Ids must be within the integer value range. (default: user, current: userId)\n",
       "</div>"
      ]
     },
     "metadata": {},
     "output_type": "display_data"
    }
   ],
   "source": [
    "# 1st print a list of parameters\n",
    "print(als.explainParams())"
   ]
  },
  {
   "cell_type": "code",
   "execution_count": 47,
   "metadata": {},
   "outputs": [
    {
     "data": {
      "text/html": [
       "<style scoped>\n",
       "  .ansiout {\n",
       "    display: block;\n",
       "    unicode-bidi: embed;\n",
       "    white-space: pre-wrap;\n",
       "    word-wrap: break-word;\n",
       "    word-break: break-all;\n",
       "    font-family: \"Source Code Pro\", \"Menlo\", monospace;;\n",
       "    font-size: 13px;\n",
       "    color: #555;\n",
       "    margin-left: 4px;\n",
       "    line-height: 19px;\n",
       "  }\n",
       "</style>\n",
       "<div class=\"ansiout\"></div>"
      ]
     },
     "metadata": {},
     "output_type": "display_data"
    }
   ],
   "source": [
    "#Tune model using ParamGridBuilder\n",
    "# it will take long time in the cv period, so just use few parameter to try \n",
    "\n",
    "paramGrid = (ParamGridBuilder()\n",
    "             .addGrid(als.regParam, [0.01])\n",
    "             .addGrid(als.rank, [10])\n",
    "             .addGrid(als.maxIter, [15])\n",
    "             .build())\n",
    "\n",
    "# paramGrid = (ParamGridBuilder()\n",
    "#              .addGrid(als.regParam, [0.01, 0.5, 1, 1.5])\n",
    "#              .addGrid(als.rank, [10, 15, 20, 25])\n",
    "#              .addGrid(als.maxIter, [1, 5, 10, 15])\n",
    "#              .build())"
   ]
  },
  {
   "cell_type": "code",
   "execution_count": 48,
   "metadata": {},
   "outputs": [
    {
     "data": {
      "text/html": [
       "<style scoped>\n",
       "  .ansiout {\n",
       "    display: block;\n",
       "    unicode-bidi: embed;\n",
       "    white-space: pre-wrap;\n",
       "    word-wrap: break-word;\n",
       "    word-break: break-all;\n",
       "    font-family: \"Source Code Pro\", \"Menlo\", monospace;;\n",
       "    font-size: 13px;\n",
       "    color: #555;\n",
       "    margin-left: 4px;\n",
       "    line-height: 19px;\n",
       "  }\n",
       "</style>\n",
       "<div class=\"ansiout\"></div>"
      ]
     },
     "metadata": {},
     "output_type": "display_data"
    }
   ],
   "source": [
    "# Define evaluator as RMSE\n",
    "\n",
    "evaluator = RegressionEvaluator(metricName=\"rmse\", labelCol=\"rating\",\n",
    "                                predictionCol=\"prediction\")"
   ]
  },
  {
   "cell_type": "code",
   "execution_count": 49,
   "metadata": {},
   "outputs": [
    {
     "data": {
      "text/html": [
       "<style scoped>\n",
       "  .ansiout {\n",
       "    display: block;\n",
       "    unicode-bidi: embed;\n",
       "    white-space: pre-wrap;\n",
       "    word-wrap: break-word;\n",
       "    word-break: break-all;\n",
       "    font-family: \"Source Code Pro\", \"Menlo\", monospace;;\n",
       "    font-size: 13px;\n",
       "    color: #555;\n",
       "    margin-left: 4px;\n",
       "    line-height: 19px;\n",
       "  }\n",
       "</style>\n",
       "<div class=\"ansiout\">MLlib will automatically track trials in MLflow. After your tuning fit() call has completed, view the MLflow UI to see logged runs.\n",
       "</div>"
      ]
     },
     "metadata": {},
     "output_type": "display_data"
    }
   ],
   "source": [
    "from pyspark.ml.tuning import CrossValidator\n",
    "# Build Cross validation \n",
    "# Create 5-fold CrossValidator\n",
    "# it takes too long that I only use 2-fold\n",
    "cv = CrossValidator(estimator=als, estimatorParamMaps=paramGrid, evaluator=evaluator, numFolds=2)\n",
    "\n",
    "# Run cross validations\n",
    "cvModel = cv.fit(training)\n",
    "# this will likely take a fair amount of time because of the amount of models that we're creating and testing"
   ]
  },
  {
   "cell_type": "code",
   "execution_count": 50,
   "metadata": {},
   "outputs": [
    {
     "data": {
      "text/html": [
       "<style scoped>\n",
       "  .ansiout {\n",
       "    display: block;\n",
       "    unicode-bidi: embed;\n",
       "    white-space: pre-wrap;\n",
       "    word-wrap: break-word;\n",
       "    word-break: break-all;\n",
       "    font-family: \"Source Code Pro\", \"Menlo\", monospace;;\n",
       "    font-size: 13px;\n",
       "    color: #555;\n",
       "    margin-left: 4px;\n",
       "    line-height: 19px;\n",
       "  }\n",
       "</style>\n",
       "<div class=\"ansiout\"></div>"
      ]
     },
     "metadata": {},
     "output_type": "display_data"
    }
   ],
   "source": [
    "# Extract the best model selected by CV\n",
    "best_model = cvModel.bestModel"
   ]
  },
  {
   "cell_type": "code",
   "execution_count": 51,
   "metadata": {},
   "outputs": [
    {
     "data": {
      "text/html": [
       "<style scoped>\n",
       "  .ansiout {\n",
       "    display: block;\n",
       "    unicode-bidi: embed;\n",
       "    white-space: pre-wrap;\n",
       "    word-wrap: break-word;\n",
       "    word-break: break-all;\n",
       "    font-family: \"Source Code Pro\", \"Menlo\", monospace;;\n",
       "    font-size: 13px;\n",
       "    color: #555;\n",
       "    margin-left: 4px;\n",
       "    line-height: 19px;\n",
       "  }\n",
       "</style>\n",
       "<div class=\"ansiout\">**Best Model**\n",
       "Rank:  ALSModel: uid=ALS_64e9479a92ef, rank=10\n",
       " MaxIter:  15\n",
       " RegParam: ALS_64e9479a92ef__regParam\n",
       "</div>"
      ]
     },
     "metadata": {},
     "output_type": "display_data"
    }
   ],
   "source": [
    "#Fit ALS model to training data\n",
    "\n",
    "# specify parameter settings by the best model obtained via CV\n",
    "print (\"**Best Model**\")\n",
    "print (\"Rank: \", best_model)\n",
    "print (\" MaxIter: \", str(best_model._java_obj.parent().getMaxIter()))\n",
    "print (\" RegParam:\",  best_model._java_obj.parent().regParam())"
   ]
  },
  {
   "cell_type": "markdown",
   "metadata": {},
   "source": [
    "### Model testing"
   ]
  },
  {
   "cell_type": "code",
   "execution_count": 53,
   "metadata": {},
   "outputs": [
    {
     "data": {
      "text/html": [
       "<style scoped>\n",
       "  .ansiout {\n",
       "    display: block;\n",
       "    unicode-bidi: embed;\n",
       "    white-space: pre-wrap;\n",
       "    word-wrap: break-word;\n",
       "    word-break: break-all;\n",
       "    font-family: \"Source Code Pro\", \"Menlo\", monospace;;\n",
       "    font-size: 13px;\n",
       "    color: #555;\n",
       "    margin-left: 4px;\n",
       "    line-height: 19px;\n",
       "  }\n",
       "</style>\n",
       "<div class=\"ansiout\"></div>"
      ]
     },
     "metadata": {},
     "output_type": "display_data"
    }
   ],
   "source": [
    "#Generate predictions and evaluate using RMSE\n",
    "predictions=best_model.transform(test)\n",
    "rmse = evaluator.evaluate(predictions)"
   ]
  },
  {
   "cell_type": "code",
   "execution_count": 54,
   "metadata": {},
   "outputs": [
    {
     "data": {
      "text/html": [
       "<style scoped>\n",
       "  .ansiout {\n",
       "    display: block;\n",
       "    unicode-bidi: embed;\n",
       "    white-space: pre-wrap;\n",
       "    word-wrap: break-word;\n",
       "    word-break: break-all;\n",
       "    font-family: \"Source Code Pro\", \"Menlo\", monospace;;\n",
       "    font-size: 13px;\n",
       "    color: #555;\n",
       "    margin-left: 4px;\n",
       "    line-height: 19px;\n",
       "  }\n",
       "</style>\n",
       "<div class=\"ansiout\">RMSE = 0.7107569994200237\n",
       "</div>"
      ]
     },
     "metadata": {},
     "output_type": "display_data"
    }
   ],
   "source": [
    "#Print RMSE \n",
    "print (\"RMSE = \"+str(rmse))"
   ]
  },
  {
   "cell_type": "code",
   "execution_count": 55,
   "metadata": {},
   "outputs": [
    {
     "data": {
      "text/html": [
       "<style scoped>\n",
       "  .ansiout {\n",
       "    display: block;\n",
       "    unicode-bidi: embed;\n",
       "    white-space: pre-wrap;\n",
       "    word-wrap: break-word;\n",
       "    word-break: break-all;\n",
       "    font-family: \"Source Code Pro\", \"Menlo\", monospace;;\n",
       "    font-size: 13px;\n",
       "    color: #555;\n",
       "    margin-left: 4px;\n",
       "    line-height: 19px;\n",
       "  }\n",
       "</style>\n",
       "<div class=\"ansiout\"></div>"
      ]
     },
     "metadata": {},
     "output_type": "display_data"
    }
   ],
   "source": [
    "#Extract best model from the tuning exercise using ParamGridBuilder\n",
    "\n",
    "als_best = ALS(maxIter=15, rank=10, regParam=0.01, userCol=\"userId\", itemCol=\"movieId\", ratingCol=\"rating\",\n",
    "          coldStartStrategy=\"drop\")\n",
    "model = als_best.fit(training)"
   ]
  },
  {
   "cell_type": "code",
   "execution_count": 56,
   "metadata": {},
   "outputs": [
    {
     "data": {
      "text/html": [
       "<style scoped>\n",
       "  .table-result-container {\n",
       "    max-height: 300px;\n",
       "    overflow: auto;\n",
       "  }\n",
       "  table, th, td {\n",
       "    border: 1px solid black;\n",
       "    border-collapse: collapse;\n",
       "  }\n",
       "  th, td {\n",
       "    padding: 5px;\n",
       "  }\n",
       "  th {\n",
       "    text-align: left;\n",
       "  }\n",
       "</style><div class='table-result-container'><table class='table-result'><thead style='background-color: white'><tr><th>userId</th><th>movieId</th><th>rating</th><th>prediction</th></tr></thead><tbody><tr><td>148</td><td>1</td><td>4.0</td><td>3.645511</td></tr><tr><td>148</td><td>3</td><td>3.0</td><td>2.3009744</td></tr><tr><td>148</td><td>29</td><td>3.0</td><td>3.8303611</td></tr><tr><td>148</td><td>36</td><td>4.0</td><td>4.460527</td></tr><tr><td>148</td><td>58</td><td>4.0</td><td>4.0860343</td></tr><tr><td>148</td><td>64</td><td>1.0</td><td>1.358746</td></tr><tr><td>148</td><td>631</td><td>1.0</td><td>1.8058553</td></tr><tr><td>148</td><td>653</td><td>3.0</td><td>2.591094</td></tr><tr><td>148</td><td>708</td><td>2.0</td><td>3.4750473</td></tr><tr><td>148</td><td>710</td><td>1.0</td><td>1.7080603</td></tr></tbody></table></div>"
      ]
     },
     "metadata": {},
     "output_type": "display_data"
    }
   ],
   "source": [
    "#predictions.show(10)\n",
    "\n",
    "predictions.createOrReplaceTempView(\"predictions\")\n",
    "\n",
    "display (spark.sql(\"SELECT * FROM predictions limit 10\"))"
   ]
  },
  {
   "cell_type": "markdown",
   "metadata": {},
   "source": [
    "### Model apply and see the performance"
   ]
  },
  {
   "cell_type": "code",
   "execution_count": 58,
   "metadata": {},
   "outputs": [
    {
     "data": {
      "text/html": [
       "<style scoped>\n",
       "  .ansiout {\n",
       "    display: block;\n",
       "    unicode-bidi: embed;\n",
       "    white-space: pre-wrap;\n",
       "    word-wrap: break-word;\n",
       "    word-break: break-all;\n",
       "    font-family: \"Source Code Pro\", \"Menlo\", monospace;;\n",
       "    font-size: 13px;\n",
       "    color: #555;\n",
       "    margin-left: 4px;\n",
       "    line-height: 19px;\n",
       "  }\n",
       "</style>\n",
       "<div class=\"ansiout\">RMSE = 0.7107569994200237\n",
       "</div>"
      ]
     },
     "metadata": {},
     "output_type": "display_data"
    }
   ],
   "source": [
    "alldata=best_model.transform(movie_ratings)\n",
    "rmse = evaluator.evaluate(alldata)\n",
    "print (\"RMSE = \"+str(rmse))"
   ]
  },
  {
   "cell_type": "code",
   "execution_count": 59,
   "metadata": {},
   "outputs": [
    {
     "data": {
      "text/html": [
       "<style scoped>\n",
       "  .ansiout {\n",
       "    display: block;\n",
       "    unicode-bidi: embed;\n",
       "    white-space: pre-wrap;\n",
       "    word-wrap: break-word;\n",
       "    word-break: break-all;\n",
       "    font-family: \"Source Code Pro\", \"Menlo\", monospace;;\n",
       "    font-size: 13px;\n",
       "    color: #555;\n",
       "    margin-left: 4px;\n",
       "    line-height: 19px;\n",
       "  }\n",
       "</style>\n",
       "<div class=\"ansiout\">/databricks/spark/python/pyspark/sql/dataframe.py:142: DeprecationWarning: Deprecated in 2.0, use createOrReplaceTempView instead.\n",
       "  &#34;Deprecated in 2.0, use createOrReplaceTempView instead.&#34;, DeprecationWarning)\n",
       "</div>"
      ]
     },
     "metadata": {},
     "output_type": "display_data"
    }
   ],
   "source": [
    "alldata.registerTempTable(\"alldata\")"
   ]
  },
  {
   "cell_type": "code",
   "execution_count": 60,
   "metadata": {},
   "outputs": [
    {
     "data": {
      "text/html": [
       "<style scoped>\n",
       "  .table-result-container {\n",
       "    max-height: 300px;\n",
       "    overflow: auto;\n",
       "  }\n",
       "  table, th, td {\n",
       "    border: 1px solid black;\n",
       "    border-collapse: collapse;\n",
       "  }\n",
       "  th, td {\n",
       "    padding: 5px;\n",
       "  }\n",
       "  th {\n",
       "    text-align: left;\n",
       "  }\n",
       "</style><div class='table-result-container'><table class='table-result'><thead style='background-color: white'><tr><th>userId</th><th>movieId</th><th>rating</th><th>prediction</th></tr></thead><tbody><tr><td>8350</td><td>148</td><td>4.0</td><td>3.3800094</td></tr><tr><td>8264</td><td>148</td><td>1.0</td><td>1.1569343</td></tr><tr><td>6826</td><td>148</td><td>3.0</td><td>2.296391</td></tr><tr><td>6328</td><td>148</td><td>5.0</td><td>0.3956195</td></tr><tr><td>5751</td><td>148</td><td>1.5</td><td>1.3959177</td></tr><tr><td>165</td><td>148</td><td>3.0</td><td>3.305573</td></tr><tr><td>9051</td><td>148</td><td>1.0</td><td>1.6596844</td></tr><tr><td>8697</td><td>148</td><td>2.0</td><td>2.9162</td></tr><tr><td>7051</td><td>148</td><td>5.0</td><td>2.638159</td></tr><tr><td>4539</td><td>148</td><td>2.0</td><td>2.0745254</td></tr></tbody></table></div>"
      ]
     },
     "metadata": {},
     "output_type": "display_data"
    }
   ],
   "source": [
    "%sql SELECT * FROM alldata LIMIT 10"
   ]
  },
  {
   "cell_type": "code",
   "execution_count": 61,
   "metadata": {},
   "outputs": [
    {
     "data": {
      "text/html": [
       "<style scoped>\n",
       "  .table-result-container {\n",
       "    max-height: 300px;\n",
       "    overflow: auto;\n",
       "  }\n",
       "  table, th, td {\n",
       "    border: 1px solid black;\n",
       "    border-collapse: collapse;\n",
       "  }\n",
       "  th, td {\n",
       "    padding: 5px;\n",
       "  }\n",
       "  th {\n",
       "    text-align: left;\n",
       "  }\n",
       "</style><div class='table-result-container'><table class='table-result'><thead style='background-color: white'><tr><th>movieId</th><th>title</th><th>genres</th><th>userId</th><th>movieId</th><th>rating</th><th>prediction</th></tr></thead><tbody><tr><td>148</td><td>Awfully Big Adventure, An (1995)</td><td>Drama</td><td>8350</td><td>148</td><td>4.0</td><td>3.3800094</td></tr><tr><td>148</td><td>Awfully Big Adventure, An (1995)</td><td>Drama</td><td>8264</td><td>148</td><td>1.0</td><td>1.1569343</td></tr><tr><td>148</td><td>Awfully Big Adventure, An (1995)</td><td>Drama</td><td>6826</td><td>148</td><td>3.0</td><td>2.296391</td></tr><tr><td>148</td><td>Awfully Big Adventure, An (1995)</td><td>Drama</td><td>6328</td><td>148</td><td>5.0</td><td>0.3956195</td></tr><tr><td>148</td><td>Awfully Big Adventure, An (1995)</td><td>Drama</td><td>5751</td><td>148</td><td>1.5</td><td>1.3959177</td></tr><tr><td>148</td><td>Awfully Big Adventure, An (1995)</td><td>Drama</td><td>165</td><td>148</td><td>3.0</td><td>3.305573</td></tr><tr><td>148</td><td>Awfully Big Adventure, An (1995)</td><td>Drama</td><td>9051</td><td>148</td><td>1.0</td><td>1.6596844</td></tr><tr><td>148</td><td>Awfully Big Adventure, An (1995)</td><td>Drama</td><td>8697</td><td>148</td><td>2.0</td><td>2.9162</td></tr><tr><td>148</td><td>Awfully Big Adventure, An (1995)</td><td>Drama</td><td>7051</td><td>148</td><td>5.0</td><td>2.638159</td></tr><tr><td>148</td><td>Awfully Big Adventure, An (1995)</td><td>Drama</td><td>4539</td><td>148</td><td>2.0</td><td>2.0745254</td></tr></tbody></table></div>"
      ]
     },
     "metadata": {},
     "output_type": "display_data"
    }
   ],
   "source": [
    "%sql SELECT * FROM movies JOIN alldata ON movies.movieId=alldata.movieId LIMIT 10"
   ]
  },
  {
   "cell_type": "markdown",
   "metadata": {},
   "source": [
    "## Recommend moive to users with id: 575, 232. \n",
    "you can choose some users to recommend the moives"
   ]
  },
  {
   "cell_type": "code",
   "execution_count": 63,
   "metadata": {},
   "outputs": [
    {
     "data": {
      "text/html": [
       "<style scoped>\n",
       "  .table-result-container {\n",
       "    max-height: 300px;\n",
       "    overflow: auto;\n",
       "  }\n",
       "  table, th, td {\n",
       "    border: 1px solid black;\n",
       "    border-collapse: collapse;\n",
       "  }\n",
       "  th, td {\n",
       "    padding: 5px;\n",
       "  }\n",
       "  th {\n",
       "    text-align: left;\n",
       "  }\n",
       "</style><div class='table-result-container'><table class='table-result'><thead style='background-color: white'><tr><th>userId</th><th>recommendations</th></tr></thead><tbody><tr><td>1580</td><td>List(List(6528, 8.929522), List(26603, 8.626689), List(3903, 7.6779), List(2880, 7.333238), List(3531, 7.215636), List(6592, 7.1090403), List(4168, 7.106708), List(48856, 7.0374985), List(89302, 7.019793), List(5372, 6.9750633))</td></tr><tr><td>4900</td><td>List(List(7490, 5.669924), List(61071, 5.6437907), List(5517, 5.4704504), List(98361, 5.440694), List(142452, 5.3854213), List(6818, 5.361373), List(57706, 5.336205), List(144656, 5.334746), List(27093, 5.2861395), List(105130, 5.2861395))</td></tr><tr><td>5300</td><td>List(List(7168, 10.145484), List(3531, 9.717326), List(4168, 9.682838), List(7572, 9.576992), List(170777, 9.444838), List(142450, 9.433391), List(7297, 9.387732), List(34552, 9.359207), List(2585, 9.319834), List(26347, 9.309673))</td></tr><tr><td>6620</td><td>List(List(7614, 11.291706), List(3014, 10.776884), List(1571, 10.506861), List(68486, 10.493684), List(77191, 10.115659), List(2237, 9.925403), List(165103, 9.795217), List(7069, 9.756572), List(179135, 9.637023), List(4722, 9.499968))</td></tr><tr><td>7240</td><td>List(List(1856, 12.569382), List(3795, 10.558346), List(6983, 10.270081), List(68959, 10.234553), List(2275, 10.185598), List(443, 10.134381), List(5682, 9.8171015), List(74696, 9.557623), List(7128, 9.541445), List(3920, 9.5098915))</td></tr><tr><td>7340</td><td>List(List(89302, 5.748053), List(2880, 4.6566586), List(6528, 4.6412024), List(74727, 4.593356), List(5347, 4.5202465), List(3531, 4.507254), List(5527, 4.4593387), List(33451, 4.4574757), List(5372, 4.4364786), List(32792, 4.426095))</td></tr><tr><td>7880</td><td>List(List(89302, 14.348543), List(5347, 14.341215), List(77667, 12.817751), List(7043, 11.400675), List(96565, 11.222034), List(5526, 10.481774), List(81132, 10.385958), List(4789, 10.258772), List(5862, 10.1942005), List(109864, 10.178357))</td></tr><tr><td>9900</td><td>List(List(3920, 8.074048), List(3531, 7.7612104), List(1529, 7.5225544), List(85790, 7.520519), List(1925, 7.2822943), List(8809, 7.1825533), List(77, 7.1484237), List(7742, 7.052423), List(2590, 7.004626), List(2880, 6.972172))</td></tr><tr><td>471</td><td>List(List(5515, 6.012226), List(7767, 5.6731067), List(2238, 5.4778233), List(3965, 5.3709736), List(77359, 5.2733574), List(4765, 5.206387), List(8270, 5.091782), List(5875, 5.090572), List(102666, 5.066397), List(7301, 5.0451794))</td></tr><tr><td>1591</td><td>List(List(987, 9.371008), List(8521, 9.238794), List(6528, 8.992801), List(2834, 8.804521), List(8711, 8.586845), List(27800, 8.475794), List(3903, 8.458032), List(148881, 8.457217), List(121372, 8.35376), List(4578, 8.264003))</td></tr></tbody></table></div>"
      ]
     },
     "metadata": {},
     "output_type": "display_data"
    }
   ],
   "source": [
    "#recommend 10 movies for each users\n",
    "user_recs = best_model.recommendForAllUsers(10)\n",
    "#user_recs.show(10)\n",
    "\n",
    "user_recs.createOrReplaceTempView(\"user_recs\")\n",
    "\n",
    "display (spark.sql(\"SELECT * FROM user_recs limit 10\"))"
   ]
  },
  {
   "cell_type": "code",
   "execution_count": 64,
   "metadata": {},
   "outputs": [
    {
     "data": {
      "text/html": [
       "<style scoped>\n",
       "  .ansiout {\n",
       "    display: block;\n",
       "    unicode-bidi: embed;\n",
       "    white-space: pre-wrap;\n",
       "    word-wrap: break-word;\n",
       "    word-break: break-all;\n",
       "    font-family: \"Source Code Pro\", \"Menlo\", monospace;;\n",
       "    font-size: 13px;\n",
       "    color: #555;\n",
       "    margin-left: 4px;\n",
       "    line-height: 19px;\n",
       "  }\n",
       "</style>\n",
       "<div class=\"ansiout\">Out[48]: Row(userId=1580, recommendations=[Row(movieId=6528, rating=8.929521560668945), Row(movieId=26603, rating=8.626688957214355), Row(movieId=3903, rating=7.6778998374938965), Row(movieId=2880, rating=7.333238124847412), Row(movieId=3531, rating=7.215635776519775), Row(movieId=6592, rating=7.109040260314941), Row(movieId=4168, rating=7.10670804977417), Row(movieId=48856, rating=7.037498474121094), Row(movieId=89302, rating=7.0197930335998535), Row(movieId=5372, rating=6.975063323974609)])</div>"
      ]
     },
     "metadata": {},
     "output_type": "display_data"
    }
   ],
   "source": [
    "user_recs.first()"
   ]
  },
  {
   "cell_type": "code",
   "execution_count": 65,
   "metadata": {},
   "outputs": [
    {
     "data": {
      "text/html": [
       "<style scoped>\n",
       "  .ansiout {\n",
       "    display: block;\n",
       "    unicode-bidi: embed;\n",
       "    white-space: pre-wrap;\n",
       "    word-wrap: break-word;\n",
       "    word-break: break-all;\n",
       "    font-family: \"Source Code Pro\", \"Menlo\", monospace;;\n",
       "    font-size: 13px;\n",
       "    color: #555;\n",
       "    margin-left: 4px;\n",
       "    line-height: 19px;\n",
       "  }\n",
       "</style>\n",
       "<div class=\"ansiout\"></div>"
      ]
     },
     "metadata": {},
     "output_type": "display_data"
    }
   ],
   "source": [
    "user_recs.registerTempTable(\"als_recs_temp\")"
   ]
  },
  {
   "cell_type": "code",
   "execution_count": 66,
   "metadata": {},
   "outputs": [
    {
     "data": {
      "text/html": [
       "<style scoped>\n",
       "  .table-result-container {\n",
       "    max-height: 300px;\n",
       "    overflow: auto;\n",
       "  }\n",
       "  table, th, td {\n",
       "    border: 1px solid black;\n",
       "    border-collapse: collapse;\n",
       "  }\n",
       "  th, td {\n",
       "    padding: 5px;\n",
       "  }\n",
       "  th {\n",
       "    text-align: left;\n",
       "  }\n",
       "</style><div class='table-result-container'><table class='table-result'><thead style='background-color: white'><tr><th>userId</th><th>MovieRec</th></tr></thead><tbody><tr><td>1580</td><td>List(6528, 8.929522)</td></tr><tr><td>1580</td><td>List(26603, 8.626689)</td></tr><tr><td>1580</td><td>List(3903, 7.6779)</td></tr><tr><td>1580</td><td>List(2880, 7.333238)</td></tr><tr><td>1580</td><td>List(3531, 7.215636)</td></tr><tr><td>1580</td><td>List(6592, 7.1090403)</td></tr><tr><td>1580</td><td>List(4168, 7.106708)</td></tr><tr><td>1580</td><td>List(48856, 7.0374985)</td></tr><tr><td>1580</td><td>List(89302, 7.019793)</td></tr><tr><td>1580</td><td>List(5372, 6.9750633)</td></tr></tbody></table></div>"
      ]
     },
     "metadata": {},
     "output_type": "display_data"
    }
   ],
   "source": [
    "# seperate the value of 'recommendations' in user_recs\n",
    "\n",
    "explode_rec = spark.sql('SELECT userId,\\\n",
    "                                explode(recommendations) AS MovieRec\\\n",
    "                                FROM als_recs_temp')\n",
    "#explode_rec.show(10)\n",
    "\n",
    "\n",
    "explode_rec.createOrReplaceTempView(\"explode_rec\")\n",
    "\n",
    "display (spark.sql(\"SELECT * FROM explode_rec limit 10\"))"
   ]
  },
  {
   "cell_type": "code",
   "execution_count": 67,
   "metadata": {},
   "outputs": [
    {
     "data": {
      "text/html": [
       "<style scoped>\n",
       "  .ansiout {\n",
       "    display: block;\n",
       "    unicode-bidi: embed;\n",
       "    white-space: pre-wrap;\n",
       "    word-wrap: break-word;\n",
       "    word-break: break-all;\n",
       "    font-family: \"Source Code Pro\", \"Menlo\", monospace;;\n",
       "    font-size: 13px;\n",
       "    color: #555;\n",
       "    margin-left: 4px;\n",
       "    line-height: 19px;\n",
       "  }\n",
       "</style>\n",
       "<div class=\"ansiout\"></div>"
      ]
     },
     "metadata": {},
     "output_type": "display_data"
    }
   ],
   "source": [
    "fianl_recs = spark.sql(\"SELECT userId,\\\n",
    "                               movieIds_and_ratings.movieId AS movieId,\\\n",
    "                               movieIds_and_ratings.rating AS prediction\\\n",
    "                               FROM als_recs_temp\\\n",
    "                               LATERAL VIEW explode(recommendations) exploded_table AS movieIds_and_ratings\")"
   ]
  },
  {
   "cell_type": "code",
   "execution_count": 68,
   "metadata": {},
   "outputs": [
    {
     "data": {
      "text/html": [
       "<style scoped>\n",
       "  .table-result-container {\n",
       "    max-height: 300px;\n",
       "    overflow: auto;\n",
       "  }\n",
       "  table, th, td {\n",
       "    border: 1px solid black;\n",
       "    border-collapse: collapse;\n",
       "  }\n",
       "  th, td {\n",
       "    padding: 5px;\n",
       "  }\n",
       "  th {\n",
       "    text-align: left;\n",
       "  }\n",
       "</style><div class='table-result-container'><table class='table-result'><thead style='background-color: white'><tr><th>userId</th><th>movieId</th><th>prediction</th></tr></thead><tbody><tr><td>1580</td><td>6528</td><td>8.929522</td></tr><tr><td>1580</td><td>26603</td><td>8.626689</td></tr><tr><td>1580</td><td>3903</td><td>7.6779</td></tr><tr><td>1580</td><td>2880</td><td>7.333238</td></tr><tr><td>1580</td><td>3531</td><td>7.215636</td></tr><tr><td>1580</td><td>6592</td><td>7.1090403</td></tr><tr><td>1580</td><td>4168</td><td>7.106708</td></tr><tr><td>1580</td><td>48856</td><td>7.0374985</td></tr><tr><td>1580</td><td>89302</td><td>7.019793</td></tr><tr><td>1580</td><td>5372</td><td>6.9750633</td></tr></tbody></table></div>"
      ]
     },
     "metadata": {},
     "output_type": "display_data"
    }
   ],
   "source": [
    "#fianl_recs.show(10)\n",
    "\n",
    "\n",
    "fianl_recs.createOrReplaceTempView(\"fianl_recs\")\n",
    "\n",
    "display (spark.sql(\"SELECT * FROM fianl_recs limit 10\"))"
   ]
  },
  {
   "cell_type": "code",
   "execution_count": 69,
   "metadata": {},
   "outputs": [
    {
     "data": {
      "text/html": [
       "<style scoped>\n",
       "  .table-result-container {\n",
       "    max-height: 300px;\n",
       "    overflow: auto;\n",
       "  }\n",
       "  table, th, td {\n",
       "    border: 1px solid black;\n",
       "    border-collapse: collapse;\n",
       "  }\n",
       "  th, td {\n",
       "    padding: 5px;\n",
       "  }\n",
       "  th {\n",
       "    text-align: left;\n",
       "  }\n",
       "</style><div class='table-result-container'><table class='table-result'><thead style='background-color: white'><tr><th>userId</th><th>movieId</th><th>prediction</th><th>rating</th></tr></thead><tbody><tr><td>1580</td><td>6528</td><td>8.929522</td><td>null</td></tr><tr><td>1580</td><td>26603</td><td>8.626689</td><td>null</td></tr><tr><td>1580</td><td>3903</td><td>7.6779</td><td>null</td></tr><tr><td>1580</td><td>2880</td><td>7.333238</td><td>null</td></tr><tr><td>1580</td><td>3531</td><td>7.215636</td><td>null</td></tr></tbody></table></div>"
      ]
     },
     "metadata": {},
     "output_type": "display_data"
    }
   ],
   "source": [
    "#Before we recommend the films, we need to filter out those users have not seen yet. Therefore, we need to choose rating = 'null' by join the movie ratings\n",
    "\n",
    "final_rec = fianl_recs.join(movie_ratings,['userId','movieId'],'left').filter(movie_ratings.rating.isNull())\n",
    "#display(final_rec)\n",
    "\n",
    "final_rec.createOrReplaceTempView(\"final_rec\")\n",
    "\n",
    "display (spark.sql(\"SELECT * FROM final_rec LIMIT 5\"))"
   ]
  },
  {
   "cell_type": "code",
   "execution_count": 70,
   "metadata": {},
   "outputs": [
    {
     "data": {
      "text/html": [
       "<style scoped>\n",
       "  .ansiout {\n",
       "    display: block;\n",
       "    unicode-bidi: embed;\n",
       "    white-space: pre-wrap;\n",
       "    word-wrap: break-word;\n",
       "    word-break: break-all;\n",
       "    font-family: \"Source Code Pro\", \"Menlo\", monospace;;\n",
       "    font-size: 13px;\n",
       "    color: #555;\n",
       "    margin-left: 4px;\n",
       "    line-height: 19px;\n",
       "  }\n",
       "</style>\n",
       "<div class=\"ansiout\"></div>"
      ]
     },
     "metadata": {},
     "output_type": "display_data"
    }
   ],
   "source": [
    "final_rec.registerTempTable(\"final_rec\")\n",
    "movies_df.registerTempTable(\"movies_df\")"
   ]
  },
  {
   "cell_type": "markdown",
   "metadata": {},
   "source": [
    "### Find recommend films for userid = 575"
   ]
  },
  {
   "cell_type": "code",
   "execution_count": 72,
   "metadata": {},
   "outputs": [
    {
     "data": {
      "text/html": [
       "<style scoped>\n",
       "  .table-result-container {\n",
       "    max-height: 300px;\n",
       "    overflow: auto;\n",
       "  }\n",
       "  table, th, td {\n",
       "    border: 1px solid black;\n",
       "    border-collapse: collapse;\n",
       "  }\n",
       "  th, td {\n",
       "    padding: 5px;\n",
       "  }\n",
       "  th {\n",
       "    text-align: left;\n",
       "  }\n",
       "</style><div class='table-result-container'><table class='table-result'><thead style='background-color: white'><tr><th>userId</th><th>title</th></tr></thead><tbody><tr><td>575</td><td>Oklahoma! (1955)</td></tr><tr><td>575</td><td>Wild Bill (1995)</td></tr><tr><td>575</td><td>Gentlemen of Fortune (Dzhentlmeny udachi) (1972)</td></tr><tr><td>575</td><td>Brother (Hermano) (2010)</td></tr><tr><td>575</td><td>Trouble in Paradise (1932)</td></tr><tr><td>575</td><td>Possession (1981)</td></tr><tr><td>575</td><td>Kill List (2011)</td></tr><tr><td>575</td><td>Beast of War, The (Beast, The) (1988)</td></tr><tr><td>575</td><td>Jump Tomorrow (2001)</td></tr><tr><td>575</td><td>Before the Rain (Pred dozhdot) (1994)</td></tr></tbody></table></div>"
      ]
     },
     "metadata": {},
     "output_type": "display_data"
    }
   ],
   "source": [
    "%sql\n",
    "SELECT userId,\n",
    "       title\n",
    "FROM final_rec t1\n",
    "LEFT JOIN movies_df t2\n",
    "ON t1.movieId = t2.movieId\n",
    "WHERE t1.userId=575\n",
    "LIMIT 10"
   ]
  },
  {
   "cell_type": "markdown",
   "metadata": {},
   "source": [
    "### Find recommend films for userid = 273"
   ]
  },
  {
   "cell_type": "code",
   "execution_count": 74,
   "metadata": {},
   "outputs": [
    {
     "data": {
      "text/html": [
       "<style scoped>\n",
       "  .table-result-container {\n",
       "    max-height: 300px;\n",
       "    overflow: auto;\n",
       "  }\n",
       "  table, th, td {\n",
       "    border: 1px solid black;\n",
       "    border-collapse: collapse;\n",
       "  }\n",
       "  th, td {\n",
       "    padding: 5px;\n",
       "  }\n",
       "  th {\n",
       "    text-align: left;\n",
       "  }\n",
       "</style><div class='table-result-container'><table class='table-result'><thead style='background-color: white'><tr><th>userId</th><th>title</th></tr></thead><tbody><tr><td>273</td><td>Start the Revolution Without Me (1970)</td></tr><tr><td>273</td><td>Mina Tannenbaum (1994)</td></tr><tr><td>273</td><td>Boost, The (1988)</td></tr><tr><td>273</td><td>Ordet (Word, The) (1955)</td></tr><tr><td>273</td><td>All the Vermeers in New York (1990)</td></tr></tbody></table></div>"
      ]
     },
     "metadata": {},
     "output_type": "display_data"
    }
   ],
   "source": [
    "%sql\n",
    "SELECT userId,\n",
    "       title\n",
    "FROM final_rec t1\n",
    "LEFT JOIN movies_df t2\n",
    "ON t1.movieId = t2.movieId\n",
    "WHERE t1.userId=273\n",
    "LIMIT 5"
   ]
  },
  {
   "cell_type": "markdown",
   "metadata": {},
   "source": [
    "## Find the similar moives for moive with id: 463, 471"
   ]
  },
  {
   "cell_type": "code",
   "execution_count": 76,
   "metadata": {},
   "outputs": [
    {
     "data": {
      "text/html": [
       "<style scoped>\n",
       "  .ansiout {\n",
       "    display: block;\n",
       "    unicode-bidi: embed;\n",
       "    white-space: pre-wrap;\n",
       "    word-wrap: break-word;\n",
       "    word-break: break-all;\n",
       "    font-family: \"Source Code Pro\", \"Menlo\", monospace;;\n",
       "    font-size: 13px;\n",
       "    color: #555;\n",
       "    margin-left: 4px;\n",
       "    line-height: 19px;\n",
       "  }\n",
       "</style>\n",
       "<div class=\"ansiout\">Out[55]: 22156</div>"
      ]
     },
     "metadata": {},
     "output_type": "display_data"
    }
   ],
   "source": [
    "# 1st extract productFeatures matrix\n",
    "# The productFeatures matrix will be used to create an item-item collaborative filtering recommendation model\n",
    "from pyspark.mllib.recommendation import ALS\n",
    "import math\n",
    "\n",
    "model_a = ALS.train(movie_ratings, rank=10, iterations=15,lambda_=0.01)\n",
    "model_a.productFeatures().count()"
   ]
  },
  {
   "cell_type": "code",
   "execution_count": 77,
   "metadata": {},
   "outputs": [
    {
     "data": {
      "text/html": [
       "<style scoped>\n",
       "  .ansiout {\n",
       "    display: block;\n",
       "    unicode-bidi: embed;\n",
       "    white-space: pre-wrap;\n",
       "    word-wrap: break-word;\n",
       "    word-break: break-all;\n",
       "    font-family: \"Source Code Pro\", \"Menlo\", monospace;;\n",
       "    font-size: 13px;\n",
       "    color: #555;\n",
       "    margin-left: 4px;\n",
       "    line-height: 19px;\n",
       "  }\n",
       "</style>\n",
       "<div class=\"ansiout\"></div>"
      ]
     },
     "metadata": {},
     "output_type": "display_data"
    }
   ],
   "source": [
    "# look at the feature vector of movie 463\n",
    "movie_feature = model_a.productFeatures().lookup(471)[0]"
   ]
  },
  {
   "cell_type": "code",
   "execution_count": 78,
   "metadata": {},
   "outputs": [
    {
     "data": {
      "text/html": [
       "<style scoped>\n",
       "  .ansiout {\n",
       "    display: block;\n",
       "    unicode-bidi: embed;\n",
       "    white-space: pre-wrap;\n",
       "    word-wrap: break-word;\n",
       "    word-break: break-all;\n",
       "    font-family: \"Source Code Pro\", \"Menlo\", monospace;;\n",
       "    font-size: 13px;\n",
       "    color: #555;\n",
       "    margin-left: 4px;\n",
       "    line-height: 19px;\n",
       "  }\n",
       "</style>\n",
       "<div class=\"ansiout\"></div>"
      ]
     },
     "metadata": {},
     "output_type": "display_data"
    }
   ],
   "source": [
    "# Next define cosine similarity function to measure movie similarity\n",
    "def cosineSimilarity(vec1, vec2):\n",
    "  return vec1.dot(vec2) / (LA.norm(vec1) * LA.norm(vec2))"
   ]
  },
  {
   "cell_type": "code",
   "execution_count": 79,
   "metadata": {},
   "outputs": [
    {
     "data": {
      "text/html": [
       "<style scoped>\n",
       "  .ansiout {\n",
       "    display: block;\n",
       "    unicode-bidi: embed;\n",
       "    white-space: pre-wrap;\n",
       "    word-wrap: break-word;\n",
       "    word-break: break-all;\n",
       "    font-family: \"Source Code Pro\", \"Menlo\", monospace;;\n",
       "    font-size: 13px;\n",
       "    color: #555;\n",
       "    margin-left: 4px;\n",
       "    line-height: 19px;\n",
       "  }\n",
       "</style>\n",
       "<div class=\"ansiout\"></div>"
      ]
     },
     "metadata": {},
     "output_type": "display_data"
    }
   ],
   "source": [
    "# Assigns the movies title file\n",
    "movies_file = os.path.join(\"/FileStore/tables/\", 'movies.csv')\n",
    "movies_sc = sc.textFile(movies_file)\n",
    "\n",
    "movies_sc_header = movies_sc.take(1)[0]\n",
    "\n",
    "movies_data = movies_sc.filter(lambda line: line!=movies_sc_header)\\\n",
    "    .map(lambda line: line.split(\",\")).map(lambda tokens: (tokens[0],tokens[1])).cache()\n",
    "\n",
    "movies_titles = movies_data.map(lambda x: (int(x[0]),x[1]))"
   ]
  },
  {
   "cell_type": "code",
   "execution_count": 80,
   "metadata": {},
   "outputs": [
    {
     "data": {
      "text/html": [
       "<style scoped>\n",
       "  .ansiout {\n",
       "    display: block;\n",
       "    unicode-bidi: embed;\n",
       "    white-space: pre-wrap;\n",
       "    word-wrap: break-word;\n",
       "    word-break: break-all;\n",
       "    font-family: \"Source Code Pro\", \"Menlo\", monospace;;\n",
       "    font-size: 13px;\n",
       "    color: #555;\n",
       "    margin-left: 4px;\n",
       "    line-height: 19px;\n",
       "  }\n",
       "</style>\n",
       "<div class=\"ansiout\">Out[59]: &#39;movieId,title,genres&#39;</div>"
      ]
     },
     "metadata": {},
     "output_type": "display_data"
    }
   ],
   "source": [
    "movies_sc_header"
   ]
  },
  {
   "cell_type": "code",
   "execution_count": 81,
   "metadata": {},
   "outputs": [
    {
     "data": {
      "text/html": [
       "<style scoped>\n",
       "  .ansiout {\n",
       "    display: block;\n",
       "    unicode-bidi: embed;\n",
       "    white-space: pre-wrap;\n",
       "    word-wrap: break-word;\n",
       "    word-break: break-all;\n",
       "    font-family: \"Source Code Pro\", \"Menlo\", monospace;;\n",
       "    font-size: 13px;\n",
       "    color: #555;\n",
       "    margin-left: 4px;\n",
       "    line-height: 19px;\n",
       "  }\n",
       "</style>\n",
       "<div class=\"ansiout\">Out[60]: PythonRDD[3466] at RDD at PythonRDD.scala:58</div>"
      ]
     },
     "metadata": {},
     "output_type": "display_data"
    }
   ],
   "source": [
    "movies_data"
   ]
  },
  {
   "cell_type": "code",
   "execution_count": 82,
   "metadata": {},
   "outputs": [
    {
     "data": {
      "text/html": [
       "<style scoped>\n",
       "  .ansiout {\n",
       "    display: block;\n",
       "    unicode-bidi: embed;\n",
       "    white-space: pre-wrap;\n",
       "    word-wrap: break-word;\n",
       "    word-break: break-all;\n",
       "    font-family: \"Source Code Pro\", \"Menlo\", monospace;;\n",
       "    font-size: 13px;\n",
       "    color: #555;\n",
       "    margin-left: 4px;\n",
       "    line-height: 19px;\n",
       "  }\n",
       "</style>\n",
       "<div class=\"ansiout\">Out[61]: PythonRDD[3467] at RDD at PythonRDD.scala:58</div>"
      ]
     },
     "metadata": {},
     "output_type": "display_data"
    }
   ],
   "source": [
    "movies_titles"
   ]
  },
  {
   "cell_type": "code",
   "execution_count": 83,
   "metadata": {},
   "outputs": [
    {
     "data": {
      "text/html": [
       "<style scoped>\n",
       "  .ansiout {\n",
       "    display: block;\n",
       "    unicode-bidi: embed;\n",
       "    white-space: pre-wrap;\n",
       "    word-wrap: break-word;\n",
       "    word-break: break-all;\n",
       "    font-family: \"Source Code Pro\", \"Menlo\", monospace;;\n",
       "    font-size: 13px;\n",
       "    color: #555;\n",
       "    margin-left: 4px;\n",
       "    line-height: 19px;\n",
       "  }\n",
       "</style>\n",
       "<div class=\"ansiout\"></div>"
      ]
     },
     "metadata": {},
     "output_type": "display_data"
    }
   ],
   "source": [
    "# Build similarity matrix for movieid 471 using the product features matrix\n",
    "\n",
    "similarMovies = model_a.productFeatures().map(lambda products:(products[0],\n",
    "                                        cosineSimilarity(np.asarray(products[1]), movie_feature))).join(movies_titles).map(lambda r: (r[1][1], r[1][0], r[0]))\n",
    "\n",
    "# Sort the top 10 most similar movies descendingly by cosine similarity measure\n",
    "# similarMovies.takeOrdered(11, key=lambda x: -x[1])"
   ]
  },
  {
   "cell_type": "code",
   "execution_count": 84,
   "metadata": {},
   "outputs": [
    {
     "data": {
      "text/html": [
       "<style scoped>\n",
       "  .ansiout {\n",
       "    display: block;\n",
       "    unicode-bidi: embed;\n",
       "    white-space: pre-wrap;\n",
       "    word-wrap: break-word;\n",
       "    word-break: break-all;\n",
       "    font-family: \"Source Code Pro\", \"Menlo\", monospace;;\n",
       "    font-size: 13px;\n",
       "    color: #555;\n",
       "    margin-left: 4px;\n",
       "    line-height: 19px;\n",
       "  }\n",
       "</style>\n",
       "<div class=\"ansiout\"></div>"
      ]
     },
     "metadata": {},
     "output_type": "display_data"
    }
   ],
   "source": [
    "from pyspark.ml.linalg import Vectors\n",
    "from pyspark.sql.functions import col\n",
    "from pyspark.ml.feature import BucketedRandomProjectionLSH\n",
    "from pyspark.ml.linalg import Vectors, VectorUDT"
   ]
  },
  {
   "cell_type": "code",
   "execution_count": 85,
   "metadata": {},
   "outputs": [
    {
     "data": {
      "text/html": [
       "<style scoped>\n",
       "  .table-result-container {\n",
       "    max-height: 300px;\n",
       "    overflow: auto;\n",
       "  }\n",
       "  table, th, td {\n",
       "    border: 1px solid black;\n",
       "    border-collapse: collapse;\n",
       "  }\n",
       "  th, td {\n",
       "    padding: 5px;\n",
       "  }\n",
       "  th {\n",
       "    text-align: left;\n",
       "  }\n",
       "</style><div class='table-result-container'><table class='table-result'><thead style='background-color: white'><tr><th>id</th><th>features</th></tr></thead><tbody><tr><td>10</td><td>List(-0.7070604, -0.3937841, -0.7354741, -0.5316492, -0.23054606, -0.9362612, 0.4878864, 0.181011, 0.12492501, -0.32780373)</td></tr><tr><td>20</td><td>List(-0.2865907, -0.38920316, -0.757129, -0.41535524, -0.33387962, -0.78734565, 0.74777204, -0.42470917, -0.5602824, -0.50083333)</td></tr><tr><td>30</td><td>List(-0.41119733, -0.6554364, -1.120149, -0.05089784, 0.2785565, -1.4204834, -0.45307264, -0.91303414, 0.8519034, -0.24168478)</td></tr><tr><td>40</td><td>List(-0.50368834, -0.6089162, -0.34873757, -0.42284888, 0.29128578, -1.0997701, 0.53955245, -0.5642491, 1.1535795, 0.067440234)</td></tr><tr><td>50</td><td>List(-0.60370475, -1.0662308, -0.853213, -0.5079328, -0.010333406, -1.0317204, 0.23053925, 0.22187883, 1.0357325, -0.16144118)</td></tr></tbody></table></div>"
      ]
     },
     "metadata": {},
     "output_type": "display_data"
    }
   ],
   "source": [
    "a = best_model.itemFactors\n",
    "# display(a.cache())\n",
    "\n",
    "a.createOrReplaceTempView(\"a\")\n",
    "\n",
    "display (spark.sql(\"SELECT * FROM a limit 5\"))"
   ]
  },
  {
   "cell_type": "code",
   "execution_count": 86,
   "metadata": {},
   "outputs": [
    {
     "data": {
      "text/html": [
       "<style scoped>\n",
       "  .ansiout {\n",
       "    display: block;\n",
       "    unicode-bidi: embed;\n",
       "    white-space: pre-wrap;\n",
       "    word-wrap: break-word;\n",
       "    word-break: break-all;\n",
       "    font-family: \"Source Code Pro\", \"Menlo\", monospace;;\n",
       "    font-size: 13px;\n",
       "    color: #555;\n",
       "    margin-left: 4px;\n",
       "    line-height: 19px;\n",
       "  }\n",
       "</style>\n",
       "<div class=\"ansiout\"></div>"
      ]
     },
     "metadata": {},
     "output_type": "display_data"
    }
   ],
   "source": [
    "a.registerTempTable(\"movie_on_movie\")"
   ]
  },
  {
   "cell_type": "code",
   "execution_count": 87,
   "metadata": {},
   "outputs": [
    {
     "data": {
      "text/html": [
       "<style scoped>\n",
       "  .table-result-container {\n",
       "    max-height: 300px;\n",
       "    overflow: auto;\n",
       "  }\n",
       "  table, th, td {\n",
       "    border: 1px solid black;\n",
       "    border-collapse: collapse;\n",
       "  }\n",
       "  th, td {\n",
       "    padding: 5px;\n",
       "  }\n",
       "  th {\n",
       "    text-align: left;\n",
       "  }\n",
       "</style><div class='table-result-container'><table class='table-result'><thead style='background-color: white'><tr><th>features</th></tr></thead><tbody><tr><td>List(-0.73946416, -1.03179, -0.83905196, -0.6525196, -0.3816911, -0.88358724, -0.47698575, -0.15836999, 0.36126232, -0.6475737)</td></tr></tbody></table></div>"
      ]
     },
     "metadata": {},
     "output_type": "display_data"
    }
   ],
   "source": [
    "%sql\n",
    "SELECT features FROM movie_on_movie WHERE id = 471"
   ]
  },
  {
   "cell_type": "code",
   "execution_count": 88,
   "metadata": {},
   "outputs": [
    {
     "data": {
      "text/html": [
       "<style scoped>\n",
       "  .table-result-container {\n",
       "    max-height: 300px;\n",
       "    overflow: auto;\n",
       "  }\n",
       "  table, th, td {\n",
       "    border: 1px solid black;\n",
       "    border-collapse: collapse;\n",
       "  }\n",
       "  th, td {\n",
       "    padding: 5px;\n",
       "  }\n",
       "  th {\n",
       "    text-align: left;\n",
       "  }\n",
       "</style><div class='table-result-container'><table class='table-result'><thead style='background-color: white'><tr><th>userId</th><th>movieId</th><th>rating</th><th>timestamp</th></tr></thead><tbody><tr><td>114</td><td>463</td><td>4</td><td>973377486</td></tr><tr><td>758</td><td>463</td><td>3</td><td>874853655</td></tr><tr><td>1927</td><td>463</td><td>2</td><td>900074111</td></tr><tr><td>2481</td><td>463</td><td>3</td><td>899667729</td></tr><tr><td>2629</td><td>463</td><td>2.5</td><td>1070005270</td></tr><tr><td>3246</td><td>463</td><td>3</td><td>862157039</td></tr><tr><td>3832</td><td>463</td><td>3</td><td>953511244</td></tr><tr><td>4796</td><td>463</td><td>2</td><td>887467693</td></tr><tr><td>5276</td><td>463</td><td>4</td><td>945487923</td></tr><tr><td>5323</td><td>463</td><td>3</td><td>961007786</td></tr></tbody></table></div>"
      ]
     },
     "metadata": {},
     "output_type": "display_data"
    }
   ],
   "source": [
    "%sql\n",
    "SELECT * FROM ratings WHERE movieId = 463 LIMIT 10"
   ]
  },
  {
   "cell_type": "code",
   "execution_count": 89,
   "metadata": {},
   "outputs": [
    {
     "data": {
      "text/html": [
       "<style scoped>\n",
       "  .ansiout {\n",
       "    display: block;\n",
       "    unicode-bidi: embed;\n",
       "    white-space: pre-wrap;\n",
       "    word-wrap: break-word;\n",
       "    word-break: break-all;\n",
       "    font-family: \"Source Code Pro\", \"Menlo\", monospace;;\n",
       "    font-size: 13px;\n",
       "    color: #555;\n",
       "    margin-left: 4px;\n",
       "    line-height: 19px;\n",
       "  }\n",
       "</style>\n",
       "<div class=\"ansiout\"></div>"
      ]
     },
     "metadata": {},
     "output_type": "display_data"
    }
   ],
   "source": [
    "brp = BucketedRandomProjectionLSH(inputCol=\"features\", outputCol=\"hashes\",seed=12345, bucketLength=1.0)\n",
    "#a.printSchema()\n",
    "#change features columns into dense vector\n",
    "to_vector = udf(lambda a: Vectors.dense(a), VectorUDT())\n",
    "data = a.select(\"id\", to_vector(\"features\").alias(\"features\"))\n",
    "#data.printSchema()"
   ]
  },
  {
   "cell_type": "code",
   "execution_count": 90,
   "metadata": {},
   "outputs": [
    {
     "data": {
      "text/html": [
       "<style scoped>\n",
       "  .ansiout {\n",
       "    display: block;\n",
       "    unicode-bidi: embed;\n",
       "    white-space: pre-wrap;\n",
       "    word-wrap: break-word;\n",
       "    word-break: break-all;\n",
       "    font-family: \"Source Code Pro\", \"Menlo\", monospace;;\n",
       "    font-size: 13px;\n",
       "    color: #555;\n",
       "    margin-left: 4px;\n",
       "    line-height: 19px;\n",
       "  }\n",
       "</style>\n",
       "<div class=\"ansiout\">Out[67]: DataFrame[id: int, features: vector, hashes: array&lt;vector&gt;]</div>"
      ]
     },
     "metadata": {},
     "output_type": "display_data"
    }
   ],
   "source": [
    "model = brp.fit(data)\n",
    "model.transform(data)"
   ]
  },
  {
   "cell_type": "code",
   "execution_count": 91,
   "metadata": {},
   "outputs": [
    {
     "data": {
      "text/html": [
       "<style scoped>\n",
       "  .ansiout {\n",
       "    display: block;\n",
       "    unicode-bidi: embed;\n",
       "    white-space: pre-wrap;\n",
       "    word-wrap: break-word;\n",
       "    word-break: break-all;\n",
       "    font-family: \"Source Code Pro\", \"Menlo\", monospace;;\n",
       "    font-size: 13px;\n",
       "    color: #555;\n",
       "    margin-left: 4px;\n",
       "    line-height: 19px;\n",
       "  }\n",
       "</style>\n",
       "<div class=\"ansiout\">Out[93]: [Row(id=471, features=DenseVector([-0.7395, -1.0318, -0.8391, -0.6525, -0.3817, -0.8836, -0.477, -0.1584, 0.3613, -0.6476]), hashes=[DenseVector([-1.0])], distCol=2.6779069095950976e-08),\n",
       " Row(id=6296, features=DenseVector([-0.5401, -1.0054, -0.821, -0.4597, -0.3949, -1.0113, -0.3629, -0.1277, 0.4759, -0.4724]), hashes=[DenseVector([-1.0])], distCol=0.3901452368861754),\n",
       " Row(id=97057, features=DenseVector([-0.5904, -0.9122, -0.7997, -0.6033, -0.2024, -1.017, -0.2256, -0.3149, 0.2738, -0.5288]), hashes=[DenseVector([-1.0])], distCol=0.4470437260221147),\n",
       " Row(id=3476, features=DenseVector([-0.986, -1.008, -0.8233, -0.5235, -0.3749, -0.8585, -0.5189, -0.3369, 0.684, -0.3538]), hashes=[DenseVector([-1.0])], distCol=0.5504438482643557),\n",
       " Row(id=1059, features=DenseVector([-0.7223, -0.6745, -0.8458, -0.5371, -0.2055, -0.8023, -0.2337, -0.3719, 0.5332, -0.821]), hashes=[DenseVector([-1.0])], distCol=0.5859705231399436),\n",
       " Row(id=4346, features=DenseVector([-0.649, -0.8289, -0.8635, -0.647, -0.1975, -0.9109, -0.2489, -0.5237, 0.6113, -0.4233]), hashes=[DenseVector([-1.0])], distCol=0.6188139425663551)]</div>"
      ]
     },
     "metadata": {},
     "output_type": "display_data"
    }
   ],
   "source": [
    "model.approxNearestNeighbors(data, Vectors.dense([-0.73946416, -1.03179, -0.83905196, -0.6525196, -0.3816911, -0.88358724, -0.47698575, -0.15836999, 0.36126232, -0.6475737]), 6).collect()"
   ]
  },
  {
   "cell_type": "code",
   "execution_count": 92,
   "metadata": {},
   "outputs": [],
   "source": [
    "# similar moives for moive with id: 471"
   ]
  },
  {
   "cell_type": "code",
   "execution_count": 93,
   "metadata": {},
   "outputs": [
    {
     "data": {
      "text/html": [
       "<style scoped>\n",
       "  .table-result-container {\n",
       "    max-height: 300px;\n",
       "    overflow: auto;\n",
       "  }\n",
       "  table, th, td {\n",
       "    border: 1px solid black;\n",
       "    border-collapse: collapse;\n",
       "  }\n",
       "  th, td {\n",
       "    padding: 5px;\n",
       "  }\n",
       "  th {\n",
       "    text-align: left;\n",
       "  }\n",
       "</style><div class='table-result-container'><table class='table-result'><thead style='background-color: white'><tr><th>movieId</th><th>title</th><th>genres</th></tr></thead><tbody><tr><td>1059</td><td>William Shakespeare's Romeo + Juliet (1996)</td><td>Drama|Romance</td></tr><tr><td>3476</td><td>Jacob's Ladder (1990)</td><td>Horror|Mystery</td></tr><tr><td>4346</td><td>Bride of the Wind (2001)</td><td>Drama|Musical|Romance</td></tr><tr><td>6296</td><td>Mighty Wind, A (2003)</td><td>Comedy|Musical</td></tr><tr><td>97057</td><td>Kon-Tiki (2012)</td><td>Adventure|Documentary|Drama</td></tr></tbody></table></div>"
      ]
     },
     "metadata": {},
     "output_type": "display_data"
    }
   ],
   "source": [
    "%sql\n",
    "SELECT * FROM movies\n",
    "WHERE movieId IN (6296,97057,3476,1059,4346)"
   ]
  },
  {
   "cell_type": "code",
   "execution_count": 94,
   "metadata": {},
   "outputs": [
    {
     "data": {
      "text/html": [
       "<style scoped>\n",
       "  .table-result-container {\n",
       "    max-height: 300px;\n",
       "    overflow: auto;\n",
       "  }\n",
       "  table, th, td {\n",
       "    border: 1px solid black;\n",
       "    border-collapse: collapse;\n",
       "  }\n",
       "  th, td {\n",
       "    padding: 5px;\n",
       "  }\n",
       "  th {\n",
       "    text-align: left;\n",
       "  }\n",
       "</style><div class='table-result-container'><table class='table-result'><thead style='background-color: white'><tr><th>features</th></tr></thead><tbody><tr><td>List(0.64177823, -0.22756293, -1.3410357, 0.8559743, -0.5571711, -1.2529395, 1.1197073, -1.0625343, 0.92473656, 0.6378647)</td></tr></tbody></table></div>"
      ]
     },
     "metadata": {},
     "output_type": "display_data"
    }
   ],
   "source": [
    "%sql\n",
    "SELECT features FROM movie_on_movie WHERE id = 463"
   ]
  },
  {
   "cell_type": "code",
   "execution_count": 95,
   "metadata": {},
   "outputs": [
    {
     "data": {
      "text/html": [
       "<style scoped>\n",
       "  .ansiout {\n",
       "    display: block;\n",
       "    unicode-bidi: embed;\n",
       "    white-space: pre-wrap;\n",
       "    word-wrap: break-word;\n",
       "    word-break: break-all;\n",
       "    font-family: \"Source Code Pro\", \"Menlo\", monospace;;\n",
       "    font-size: 13px;\n",
       "    color: #555;\n",
       "    margin-left: 4px;\n",
       "    line-height: 19px;\n",
       "  }\n",
       "</style>\n",
       "<div class=\"ansiout\">Out[70]: [Row(id=3987, features=DenseVector([0.4357, -0.2675, -0.0643, -0.1631, -0.0658, -1.0791, 0.8362, 0.0065, 0.3355, -1.0788]), hashes=[DenseVector([-1.0])], distCol=0.9916600277390856),\n",
       " Row(id=5321, features=DenseVector([0.3429, -0.1578, -0.8135, -0.3116, 0.1501, -1.3535, 0.5879, -0.1207, 0.0999, -0.7233]), hashes=[DenseVector([-1.0])], distCol=1.1814422906931692),\n",
       " Row(id=49007, features=DenseVector([0.2805, 0.1314, -0.1589, -0.3341, -0.2482, -1.1048, 0.7964, -0.2131, 0.8589, -0.7289]), hashes=[DenseVector([-1.0])], distCol=1.24729211678601),\n",
       " Row(id=554, features=DenseVector([0.1671, -0.3045, -0.322, 0.4282, 0.0049, -0.7048, 1.02, 0.3537, -0.0589, -0.7803]), hashes=[DenseVector([-1.0])], distCol=1.2969541944425715),\n",
       " Row(id=7276, features=DenseVector([0.3005, -0.0256, -0.212, -0.4027, 0.2217, -0.8943, 0.7784, -0.0263, 0.4209, -0.2767]), hashes=[DenseVector([-1.0])], distCol=1.3099385736507838),\n",
       " Row(id=7224, features=DenseVector([0.32, -0.1144, -0.0263, 0.3018, -0.2104, -0.6419, 0.3948, -0.0621, 0.0535, -1.018]), hashes=[DenseVector([-1.0])], distCol=1.3469792969096368)]</div>"
      ]
     },
     "metadata": {},
     "output_type": "display_data"
    }
   ],
   "source": [
    "model.approxNearestNeighbors(data, Vectors.dense([0.93929714, 0.015614069, -0.3408886, 0.3818301, 0.19762212, -1.4255825, 0.99496984, -0.065754086, 0.43202916, -0.8621043]), 6).collect()"
   ]
  },
  {
   "cell_type": "code",
   "execution_count": 96,
   "metadata": {},
   "outputs": [],
   "source": [
    "# similar moives for moive with id: 463"
   ]
  },
  {
   "cell_type": "code",
   "execution_count": 97,
   "metadata": {},
   "outputs": [
    {
     "data": {
      "text/html": [
       "<style scoped>\n",
       "  .table-result-container {\n",
       "    max-height: 300px;\n",
       "    overflow: auto;\n",
       "  }\n",
       "  table, th, td {\n",
       "    border: 1px solid black;\n",
       "    border-collapse: collapse;\n",
       "  }\n",
       "  th, td {\n",
       "    padding: 5px;\n",
       "  }\n",
       "  th {\n",
       "    text-align: left;\n",
       "  }\n",
       "</style><div class='table-result-container'><table class='table-result'><thead style='background-color: white'><tr><th>movieId</th><th>title</th><th>genres</th></tr></thead><tbody><tr><td>554</td><td>Trial by Jury (1994)</td><td>Crime|Drama|Thriller</td></tr><tr><td>5321</td><td>Triumph of Love, The (2001)</td><td>Comedy</td></tr><tr><td>7224</td><td>Boy with Green Hair, The (1948)</td><td>Children|Drama</td></tr><tr><td>7276</td><td>Hell's Kitchen (1998)</td><td>Drama</td></tr><tr><td>49007</td><td>Arabesque (1966)</td><td>Adventure|Drama|Romance|Thriller</td></tr></tbody></table></div>"
      ]
     },
     "metadata": {},
     "output_type": "display_data"
    }
   ],
   "source": [
    "%sql\n",
    "SELECT * FROM movies\n",
    "WHERE movieId IN (5321,49007,554,7276,7224)"
   ]
  },
  {
   "cell_type": "markdown",
   "metadata": {},
   "source": [
    "Based on the above, we obtain the 5 movies that are most similar to movie with id: 471. They are:\n",
    "William Shakespeare's Romeo + Juliet (1996),\n",
    "\"Jacob's Ladder (1990)',\n",
    "'Bride of the Wind (2001)',\n",
    "'Stop Making Sense (1984)',\n",
    "'Mighty Wind, A (2003)',\n",
    "'Kon-Tiki (2012)'."
   ]
  }
 ],
 "metadata": {
  "kernelspec": {
   "display_name": "Python 3",
   "language": "python",
   "name": "python3"
  },
  "language_info": {
   "codemirror_mode": {
    "name": "ipython",
    "version": 3
   },
   "file_extension": ".py",
   "mimetype": "text/x-python",
   "name": "python",
   "nbconvert_exporter": "python",
   "pygments_lexer": "ipython3",
   "version": "3.8.5"
  },
  "name": "Movie Recommendation Engine in Apache Spark",
  "notebookId": 2964997303881322
 },
 "nbformat": 4,
 "nbformat_minor": 1
}
